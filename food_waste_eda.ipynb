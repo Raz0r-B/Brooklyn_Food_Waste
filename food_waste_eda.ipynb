{
 "metadata": {
  "language_info": {
   "codemirror_mode": {
    "name": "ipython",
    "version": 3
   },
   "file_extension": ".py",
   "mimetype": "text/x-python",
   "name": "python",
   "nbconvert_exporter": "python",
   "pygments_lexer": "ipython3",
   "version": "3.9.4"
  },
  "orig_nbformat": 2,
  "kernelspec": {
   "name": "python394jvsc74a57bd063fd5069d213b44bf678585dea6b12cceca9941eaf7f819626cde1f2670de90d",
   "display_name": "Python 3.9.4 64-bit"
  },
  "metadata": {
   "interpreter": {
    "hash": "63fd5069d213b44bf678585dea6b12cceca9941eaf7f819626cde1f2670de90d"
   }
  }
 },
 "nbformat": 4,
 "nbformat_minor": 2,
 "cells": [
  {
   "source": [
    "# Exploring geographic data from Broolyn Food Waste\n",
    "\n",
    "Some exploratory questions:\n",
    "\n",
    "1. Do foods labeled as organic get trashed differently than foods not labeled organic?\n",
    "2. What is the relationship between date the food was collected and the date labeled?\n",
    "\n",
    "I will also plot the location data using the Folium\n",
    "\n",
    "See Dashboard on Tableau Public [Here](https://public.tableau.com/app/profile/brandon.scott3793/viz/BrooklynFoodWaste_16234221843090/BrooklynFoodWasteDashboard)"
   ],
   "cell_type": "markdown",
   "metadata": {}
  },
  {
   "cell_type": "code",
   "execution_count": 2,
   "metadata": {},
   "outputs": [],
   "source": [
    "# Import of libraries\n",
    "import pandas as pd \n",
    "import numpy as np \n",
    "import folium\n",
    "import plotly.express as px"
   ]
  },
  {
   "cell_type": "code",
   "execution_count": 3,
   "metadata": {},
   "outputs": [
    {
     "output_type": "execute_result",
     "data": {
      "text/plain": [
       "                         id date_collected    retailer_type  \\\n",
       "0  5e31d5503b85a2e63d634187     2020-01-27  counter service   \n",
       "1  5e31d5643b85a2e63d634188     2020-01-27  counter service   \n",
       "2  5e31d8903b85a2e63d634189     2020-01-27  counter service   \n",
       "3  5e31dcee3b85a2e63d63418a     2020-01-27  counter service   \n",
       "4  5e31dd273b85a2e63d63418b     2020-01-27  counter service   \n",
       "\n",
       "                            retailer_detail     food_type  \\\n",
       "0  ready-to-eat and prepackaged health food  ready-to-eat   \n",
       "1  ready-to-eat and prepackaged health food  ready-to-eat   \n",
       "2  ready-to-eat and prepackaged health food  ready-to-eat   \n",
       "3  ready-to-eat and prepackaged health food  ready-to-eat   \n",
       "4  ready-to-eat and prepackaged health food  ready-to-eat   \n",
       "\n",
       "                    food_detail label_type label_language  label_date  \\\n",
       "0               organic oatmeal    sticker         use by  2020-01-28   \n",
       "1               organic oatmeal    sticker         use by  2020-01-28   \n",
       "2  organic middle eastern salad    sticker         use by  2020-01-28   \n",
       "3               organic oatmeal    sticker         use by  2020-01-28   \n",
       "4         organic mexican salad    sticker         use by  2020-01-28   \n",
       "\n",
       "   approximate_dollar_value  image_id  collection_lat  collection_long  \\\n",
       "0                      5.25  IMG_1872        40.69453        -73.99447   \n",
       "1                      5.25  IMG_1873        40.69453        -73.99447   \n",
       "2                     10.00  IMG_1874        40.69453        -73.99447   \n",
       "3                      6.25  IMG_1875        40.69453        -73.99447   \n",
       "4                     10.00  IMG_1876        40.69453        -73.99447   \n",
       "\n",
       "  label_explanation  \n",
       "0               NaN  \n",
       "1               NaN  \n",
       "2               NaN  \n",
       "3               NaN  \n",
       "4               NaN  "
      ],
      "text/html": "<div>\n<style scoped>\n    .dataframe tbody tr th:only-of-type {\n        vertical-align: middle;\n    }\n\n    .dataframe tbody tr th {\n        vertical-align: top;\n    }\n\n    .dataframe thead th {\n        text-align: right;\n    }\n</style>\n<table border=\"1\" class=\"dataframe\">\n  <thead>\n    <tr style=\"text-align: right;\">\n      <th></th>\n      <th>id</th>\n      <th>date_collected</th>\n      <th>retailer_type</th>\n      <th>retailer_detail</th>\n      <th>food_type</th>\n      <th>food_detail</th>\n      <th>label_type</th>\n      <th>label_language</th>\n      <th>label_date</th>\n      <th>approximate_dollar_value</th>\n      <th>image_id</th>\n      <th>collection_lat</th>\n      <th>collection_long</th>\n      <th>label_explanation</th>\n    </tr>\n  </thead>\n  <tbody>\n    <tr>\n      <th>0</th>\n      <td>5e31d5503b85a2e63d634187</td>\n      <td>2020-01-27</td>\n      <td>counter service</td>\n      <td>ready-to-eat and prepackaged health food</td>\n      <td>ready-to-eat</td>\n      <td>organic oatmeal</td>\n      <td>sticker</td>\n      <td>use by</td>\n      <td>2020-01-28</td>\n      <td>5.25</td>\n      <td>IMG_1872</td>\n      <td>40.69453</td>\n      <td>-73.99447</td>\n      <td>NaN</td>\n    </tr>\n    <tr>\n      <th>1</th>\n      <td>5e31d5643b85a2e63d634188</td>\n      <td>2020-01-27</td>\n      <td>counter service</td>\n      <td>ready-to-eat and prepackaged health food</td>\n      <td>ready-to-eat</td>\n      <td>organic oatmeal</td>\n      <td>sticker</td>\n      <td>use by</td>\n      <td>2020-01-28</td>\n      <td>5.25</td>\n      <td>IMG_1873</td>\n      <td>40.69453</td>\n      <td>-73.99447</td>\n      <td>NaN</td>\n    </tr>\n    <tr>\n      <th>2</th>\n      <td>5e31d8903b85a2e63d634189</td>\n      <td>2020-01-27</td>\n      <td>counter service</td>\n      <td>ready-to-eat and prepackaged health food</td>\n      <td>ready-to-eat</td>\n      <td>organic middle eastern salad</td>\n      <td>sticker</td>\n      <td>use by</td>\n      <td>2020-01-28</td>\n      <td>10.00</td>\n      <td>IMG_1874</td>\n      <td>40.69453</td>\n      <td>-73.99447</td>\n      <td>NaN</td>\n    </tr>\n    <tr>\n      <th>3</th>\n      <td>5e31dcee3b85a2e63d63418a</td>\n      <td>2020-01-27</td>\n      <td>counter service</td>\n      <td>ready-to-eat and prepackaged health food</td>\n      <td>ready-to-eat</td>\n      <td>organic oatmeal</td>\n      <td>sticker</td>\n      <td>use by</td>\n      <td>2020-01-28</td>\n      <td>6.25</td>\n      <td>IMG_1875</td>\n      <td>40.69453</td>\n      <td>-73.99447</td>\n      <td>NaN</td>\n    </tr>\n    <tr>\n      <th>4</th>\n      <td>5e31dd273b85a2e63d63418b</td>\n      <td>2020-01-27</td>\n      <td>counter service</td>\n      <td>ready-to-eat and prepackaged health food</td>\n      <td>ready-to-eat</td>\n      <td>organic mexican salad</td>\n      <td>sticker</td>\n      <td>use by</td>\n      <td>2020-01-28</td>\n      <td>10.00</td>\n      <td>IMG_1876</td>\n      <td>40.69453</td>\n      <td>-73.99447</td>\n      <td>NaN</td>\n    </tr>\n  </tbody>\n</table>\n</div>"
     },
     "metadata": {},
     "execution_count": 3
    }
   ],
   "source": [
    "df= pd.read_csv(r'C:\\Users\\Mech\\Desktop\\Programming\\PythonProjects\\Portfolio Projects\\Brooklyn_food_waste\\brooklyn.csv')\n",
    "df.head()"
   ]
  },
  {
   "cell_type": "code",
   "execution_count": 4,
   "metadata": {},
   "outputs": [
    {
     "output_type": "execute_result",
     "data": {
      "text/plain": [
       "(171, 14)"
      ]
     },
     "metadata": {},
     "execution_count": 4
    }
   ],
   "source": [
    "df.shape"
   ]
  },
  {
   "cell_type": "code",
   "execution_count": 5,
   "metadata": {},
   "outputs": [
    {
     "output_type": "execute_result",
     "data": {
      "text/plain": [
       "Empty DataFrame\n",
       "Columns: [id, date_collected, retailer_type, retailer_detail, food_type, food_detail, label_type, label_language, label_date, approximate_dollar_value, image_id, collection_lat, collection_long, label_explanation]\n",
       "Index: []"
      ],
      "text/html": "<div>\n<style scoped>\n    .dataframe tbody tr th:only-of-type {\n        vertical-align: middle;\n    }\n\n    .dataframe tbody tr th {\n        vertical-align: top;\n    }\n\n    .dataframe thead th {\n        text-align: right;\n    }\n</style>\n<table border=\"1\" class=\"dataframe\">\n  <thead>\n    <tr style=\"text-align: right;\">\n      <th></th>\n      <th>id</th>\n      <th>date_collected</th>\n      <th>retailer_type</th>\n      <th>retailer_detail</th>\n      <th>food_type</th>\n      <th>food_detail</th>\n      <th>label_type</th>\n      <th>label_language</th>\n      <th>label_date</th>\n      <th>approximate_dollar_value</th>\n      <th>image_id</th>\n      <th>collection_lat</th>\n      <th>collection_long</th>\n      <th>label_explanation</th>\n    </tr>\n  </thead>\n  <tbody>\n  </tbody>\n</table>\n</div>"
     },
     "metadata": {},
     "execution_count": 5
    }
   ],
   "source": [
    "df.loc[df.duplicated()]"
   ]
  },
  {
   "cell_type": "code",
   "execution_count": 6,
   "metadata": {},
   "outputs": [
    {
     "output_type": "execute_result",
     "data": {
      "text/plain": [
       "id                            0\n",
       "date_collected                0\n",
       "retailer_type                 0\n",
       "retailer_detail               0\n",
       "food_type                     0\n",
       "food_detail                   0\n",
       "label_type                    0\n",
       "label_language               51\n",
       "label_date                    1\n",
       "approximate_dollar_value      0\n",
       "image_id                      0\n",
       "collection_lat                0\n",
       "collection_long               0\n",
       "label_explanation           170\n",
       "dtype: int64"
      ]
     },
     "metadata": {},
     "execution_count": 6
    }
   ],
   "source": [
    "df.isnull().sum()"
   ]
  },
  {
   "cell_type": "code",
   "execution_count": 7,
   "metadata": {},
   "outputs": [
    {
     "output_type": "execute_result",
     "data": {
      "text/plain": [
       "id                           object\n",
       "date_collected               object\n",
       "retailer_type                object\n",
       "retailer_detail              object\n",
       "food_type                    object\n",
       "food_detail                  object\n",
       "label_type                   object\n",
       "label_language               object\n",
       "label_date                   object\n",
       "approximate_dollar_value    float64\n",
       "image_id                     object\n",
       "collection_lat              float64\n",
       "collection_long             float64\n",
       "label_explanation            object\n",
       "dtype: object"
      ]
     },
     "metadata": {},
     "execution_count": 7
    }
   ],
   "source": [
    "df.dtypes"
   ]
  },
  {
   "cell_type": "code",
   "execution_count": 8,
   "metadata": {},
   "outputs": [],
   "source": [
    "# Turn date_collected and label date into datetime\n",
    "df['date_collected'] = pd.to_datetime(df['date_collected'], errors='ignore')\n",
    "df['label_date']= pd.to_datetime(df['label_date'], errors='coerce')"
   ]
  },
  {
   "cell_type": "code",
   "execution_count": 9,
   "metadata": {},
   "outputs": [
    {
     "output_type": "execute_result",
     "data": {
      "text/plain": [
       "array(['counter service', 'health food grocer', 'drugstore', 'coffeeshop',\n",
       "       'bakery/deli', 'chain grocer'], dtype=object)"
      ]
     },
     "metadata": {},
     "execution_count": 9
    }
   ],
   "source": [
    "df['retailer_type'].unique()"
   ]
  },
  {
   "cell_type": "code",
   "execution_count": 10,
   "metadata": {},
   "outputs": [
    {
     "output_type": "execute_result",
     "data": {
      "text/plain": [
       "id                                  object\n",
       "date_collected              datetime64[ns]\n",
       "retailer_type                       object\n",
       "retailer_detail                     object\n",
       "food_type                           object\n",
       "food_detail                         object\n",
       "label_type                          object\n",
       "label_language                      object\n",
       "label_date                  datetime64[ns]\n",
       "approximate_dollar_value           float64\n",
       "image_id                            object\n",
       "collection_lat                     float64\n",
       "collection_long                    float64\n",
       "label_explanation                   object\n",
       "dtype: object"
      ]
     },
     "metadata": {},
     "execution_count": 10
    }
   ],
   "source": [
    "df.dtypes"
   ]
  },
  {
   "cell_type": "code",
   "execution_count": 11,
   "metadata": {},
   "outputs": [
    {
     "output_type": "execute_result",
     "data": {
      "text/plain": [
       "                         id date_collected    retailer_type  \\\n",
       "0  5e31d5503b85a2e63d634187     2020-01-27  counter service   \n",
       "1  5e31d5643b85a2e63d634188     2020-01-27  counter service   \n",
       "2  5e31d8903b85a2e63d634189     2020-01-27  counter service   \n",
       "3  5e31dcee3b85a2e63d63418a     2020-01-27  counter service   \n",
       "4  5e31dd273b85a2e63d63418b     2020-01-27  counter service   \n",
       "\n",
       "                            retailer_detail     food_type  \\\n",
       "0  ready-to-eat and prepackaged health food  ready-to-eat   \n",
       "1  ready-to-eat and prepackaged health food  ready-to-eat   \n",
       "2  ready-to-eat and prepackaged health food  ready-to-eat   \n",
       "3  ready-to-eat and prepackaged health food  ready-to-eat   \n",
       "4  ready-to-eat and prepackaged health food  ready-to-eat   \n",
       "\n",
       "                    food_detail label_type label_language label_date  \\\n",
       "0               organic oatmeal    sticker         use by 2020-01-28   \n",
       "1               organic oatmeal    sticker         use by 2020-01-28   \n",
       "2  organic middle eastern salad    sticker         use by 2020-01-28   \n",
       "3               organic oatmeal    sticker         use by 2020-01-28   \n",
       "4         organic mexican salad    sticker         use by 2020-01-28   \n",
       "\n",
       "   approximate_dollar_value  collection_lat  collection_long  \n",
       "0                      5.25        40.69453        -73.99447  \n",
       "1                      5.25        40.69453        -73.99447  \n",
       "2                     10.00        40.69453        -73.99447  \n",
       "3                      6.25        40.69453        -73.99447  \n",
       "4                     10.00        40.69453        -73.99447  "
      ],
      "text/html": "<div>\n<style scoped>\n    .dataframe tbody tr th:only-of-type {\n        vertical-align: middle;\n    }\n\n    .dataframe tbody tr th {\n        vertical-align: top;\n    }\n\n    .dataframe thead th {\n        text-align: right;\n    }\n</style>\n<table border=\"1\" class=\"dataframe\">\n  <thead>\n    <tr style=\"text-align: right;\">\n      <th></th>\n      <th>id</th>\n      <th>date_collected</th>\n      <th>retailer_type</th>\n      <th>retailer_detail</th>\n      <th>food_type</th>\n      <th>food_detail</th>\n      <th>label_type</th>\n      <th>label_language</th>\n      <th>label_date</th>\n      <th>approximate_dollar_value</th>\n      <th>collection_lat</th>\n      <th>collection_long</th>\n    </tr>\n  </thead>\n  <tbody>\n    <tr>\n      <th>0</th>\n      <td>5e31d5503b85a2e63d634187</td>\n      <td>2020-01-27</td>\n      <td>counter service</td>\n      <td>ready-to-eat and prepackaged health food</td>\n      <td>ready-to-eat</td>\n      <td>organic oatmeal</td>\n      <td>sticker</td>\n      <td>use by</td>\n      <td>2020-01-28</td>\n      <td>5.25</td>\n      <td>40.69453</td>\n      <td>-73.99447</td>\n    </tr>\n    <tr>\n      <th>1</th>\n      <td>5e31d5643b85a2e63d634188</td>\n      <td>2020-01-27</td>\n      <td>counter service</td>\n      <td>ready-to-eat and prepackaged health food</td>\n      <td>ready-to-eat</td>\n      <td>organic oatmeal</td>\n      <td>sticker</td>\n      <td>use by</td>\n      <td>2020-01-28</td>\n      <td>5.25</td>\n      <td>40.69453</td>\n      <td>-73.99447</td>\n    </tr>\n    <tr>\n      <th>2</th>\n      <td>5e31d8903b85a2e63d634189</td>\n      <td>2020-01-27</td>\n      <td>counter service</td>\n      <td>ready-to-eat and prepackaged health food</td>\n      <td>ready-to-eat</td>\n      <td>organic middle eastern salad</td>\n      <td>sticker</td>\n      <td>use by</td>\n      <td>2020-01-28</td>\n      <td>10.00</td>\n      <td>40.69453</td>\n      <td>-73.99447</td>\n    </tr>\n    <tr>\n      <th>3</th>\n      <td>5e31dcee3b85a2e63d63418a</td>\n      <td>2020-01-27</td>\n      <td>counter service</td>\n      <td>ready-to-eat and prepackaged health food</td>\n      <td>ready-to-eat</td>\n      <td>organic oatmeal</td>\n      <td>sticker</td>\n      <td>use by</td>\n      <td>2020-01-28</td>\n      <td>6.25</td>\n      <td>40.69453</td>\n      <td>-73.99447</td>\n    </tr>\n    <tr>\n      <th>4</th>\n      <td>5e31dd273b85a2e63d63418b</td>\n      <td>2020-01-27</td>\n      <td>counter service</td>\n      <td>ready-to-eat and prepackaged health food</td>\n      <td>ready-to-eat</td>\n      <td>organic mexican salad</td>\n      <td>sticker</td>\n      <td>use by</td>\n      <td>2020-01-28</td>\n      <td>10.00</td>\n      <td>40.69453</td>\n      <td>-73.99447</td>\n    </tr>\n  </tbody>\n</table>\n</div>"
     },
     "metadata": {},
     "execution_count": 11
    }
   ],
   "source": [
    "df.drop(['image_id', 'label_explanation'], axis=1, inplace=True)\n",
    "df.head()"
   ]
  },
  {
   "source": [
    "## Lets get a general understanding of the food collected\n",
    "\n",
    "How many stores were visited?<br>\n",
    "How much food was recovered from each store type?"
   ],
   "cell_type": "markdown",
   "metadata": {}
  },
  {
   "cell_type": "code",
   "execution_count": 12,
   "metadata": {},
   "outputs": [
    {
     "output_type": "execute_result",
     "data": {
      "text/plain": [
       "                                                   id\n",
       "collection_lat collection_long retailer_type         \n",
       "40.69120       -73.98716       drugstore           14\n",
       "40.69335       -73.99150       health food grocer  39\n",
       "40.69415       -73.99233       drugstore           38\n",
       "40.69453       -73.99447       counter service      9\n",
       "40.69460       -73.99395       coffeeshop           2\n",
       "40.69485       -73.99490       bakery/deli         35\n",
       "40.69789       -73.99267       chain grocer        34"
      ],
      "text/html": "<div>\n<style scoped>\n    .dataframe tbody tr th:only-of-type {\n        vertical-align: middle;\n    }\n\n    .dataframe tbody tr th {\n        vertical-align: top;\n    }\n\n    .dataframe thead th {\n        text-align: right;\n    }\n</style>\n<table border=\"1\" class=\"dataframe\">\n  <thead>\n    <tr style=\"text-align: right;\">\n      <th></th>\n      <th></th>\n      <th></th>\n      <th>id</th>\n    </tr>\n    <tr>\n      <th>collection_lat</th>\n      <th>collection_long</th>\n      <th>retailer_type</th>\n      <th></th>\n    </tr>\n  </thead>\n  <tbody>\n    <tr>\n      <th>40.69120</th>\n      <th>-73.98716</th>\n      <th>drugstore</th>\n      <td>14</td>\n    </tr>\n    <tr>\n      <th>40.69335</th>\n      <th>-73.99150</th>\n      <th>health food grocer</th>\n      <td>39</td>\n    </tr>\n    <tr>\n      <th>40.69415</th>\n      <th>-73.99233</th>\n      <th>drugstore</th>\n      <td>38</td>\n    </tr>\n    <tr>\n      <th>40.69453</th>\n      <th>-73.99447</th>\n      <th>counter service</th>\n      <td>9</td>\n    </tr>\n    <tr>\n      <th>40.69460</th>\n      <th>-73.99395</th>\n      <th>coffeeshop</th>\n      <td>2</td>\n    </tr>\n    <tr>\n      <th>40.69485</th>\n      <th>-73.99490</th>\n      <th>bakery/deli</th>\n      <td>35</td>\n    </tr>\n    <tr>\n      <th>40.69789</th>\n      <th>-73.99267</th>\n      <th>chain grocer</th>\n      <td>34</td>\n    </tr>\n  </tbody>\n</table>\n</div>"
     },
     "metadata": {},
     "execution_count": 12
    }
   ],
   "source": [
    "#Using latitude and longitude as unique identifier to count locations visited\n",
    "\n",
    "df.groupby(['collection_lat', 'collection_long', 'retailer_type']).agg({'id':'count'})"
   ]
  },
  {
   "source": [
    "## The above tables shows location, retailer type, and the number of foods collected at each\n",
    "\n",
    "First, how much food was collected from each type of retailer?"
   ],
   "cell_type": "markdown",
   "metadata": {}
  },
  {
   "cell_type": "code",
   "execution_count": 13,
   "metadata": {},
   "outputs": [
    {
     "output_type": "display_data",
     "data": {
      "application/vnd.plotly.v1+json": {
       "config": {
        "plotlyServerURL": "https://plot.ly"
       },
       "data": [
        {
         "alignmentgroup": "True",
         "hovertemplate": "Retailer Type=%{x}<br>Number of Foods Recovered=%{y}<extra></extra>",
         "legendgroup": "",
         "marker": {
          "color": "#636efa"
         },
         "name": "",
         "offsetgroup": "",
         "orientation": "v",
         "showlegend": false,
         "textposition": "auto",
         "type": "bar",
         "x": [
          "drugstore",
          "health food grocer",
          "bakery/deli",
          "chain grocer",
          "counter service",
          "coffeeshop"
         ],
         "xaxis": "x",
         "y": [
          52,
          39,
          35,
          34,
          9,
          2
         ],
         "yaxis": "y"
        }
       ],
       "layout": {
        "barmode": "relative",
        "legend": {
         "tracegroupgap": 0
        },
        "template": {
         "data": {
          "bar": [
           {
            "error_x": {
             "color": "#2a3f5f"
            },
            "error_y": {
             "color": "#2a3f5f"
            },
            "marker": {
             "line": {
              "color": "#E5ECF6",
              "width": 0.5
             }
            },
            "type": "bar"
           }
          ],
          "barpolar": [
           {
            "marker": {
             "line": {
              "color": "#E5ECF6",
              "width": 0.5
             }
            },
            "type": "barpolar"
           }
          ],
          "carpet": [
           {
            "aaxis": {
             "endlinecolor": "#2a3f5f",
             "gridcolor": "white",
             "linecolor": "white",
             "minorgridcolor": "white",
             "startlinecolor": "#2a3f5f"
            },
            "baxis": {
             "endlinecolor": "#2a3f5f",
             "gridcolor": "white",
             "linecolor": "white",
             "minorgridcolor": "white",
             "startlinecolor": "#2a3f5f"
            },
            "type": "carpet"
           }
          ],
          "choropleth": [
           {
            "colorbar": {
             "outlinewidth": 0,
             "ticks": ""
            },
            "type": "choropleth"
           }
          ],
          "contour": [
           {
            "colorbar": {
             "outlinewidth": 0,
             "ticks": ""
            },
            "colorscale": [
             [
              0,
              "#0d0887"
             ],
             [
              0.1111111111111111,
              "#46039f"
             ],
             [
              0.2222222222222222,
              "#7201a8"
             ],
             [
              0.3333333333333333,
              "#9c179e"
             ],
             [
              0.4444444444444444,
              "#bd3786"
             ],
             [
              0.5555555555555556,
              "#d8576b"
             ],
             [
              0.6666666666666666,
              "#ed7953"
             ],
             [
              0.7777777777777778,
              "#fb9f3a"
             ],
             [
              0.8888888888888888,
              "#fdca26"
             ],
             [
              1,
              "#f0f921"
             ]
            ],
            "type": "contour"
           }
          ],
          "contourcarpet": [
           {
            "colorbar": {
             "outlinewidth": 0,
             "ticks": ""
            },
            "type": "contourcarpet"
           }
          ],
          "heatmap": [
           {
            "colorbar": {
             "outlinewidth": 0,
             "ticks": ""
            },
            "colorscale": [
             [
              0,
              "#0d0887"
             ],
             [
              0.1111111111111111,
              "#46039f"
             ],
             [
              0.2222222222222222,
              "#7201a8"
             ],
             [
              0.3333333333333333,
              "#9c179e"
             ],
             [
              0.4444444444444444,
              "#bd3786"
             ],
             [
              0.5555555555555556,
              "#d8576b"
             ],
             [
              0.6666666666666666,
              "#ed7953"
             ],
             [
              0.7777777777777778,
              "#fb9f3a"
             ],
             [
              0.8888888888888888,
              "#fdca26"
             ],
             [
              1,
              "#f0f921"
             ]
            ],
            "type": "heatmap"
           }
          ],
          "heatmapgl": [
           {
            "colorbar": {
             "outlinewidth": 0,
             "ticks": ""
            },
            "colorscale": [
             [
              0,
              "#0d0887"
             ],
             [
              0.1111111111111111,
              "#46039f"
             ],
             [
              0.2222222222222222,
              "#7201a8"
             ],
             [
              0.3333333333333333,
              "#9c179e"
             ],
             [
              0.4444444444444444,
              "#bd3786"
             ],
             [
              0.5555555555555556,
              "#d8576b"
             ],
             [
              0.6666666666666666,
              "#ed7953"
             ],
             [
              0.7777777777777778,
              "#fb9f3a"
             ],
             [
              0.8888888888888888,
              "#fdca26"
             ],
             [
              1,
              "#f0f921"
             ]
            ],
            "type": "heatmapgl"
           }
          ],
          "histogram": [
           {
            "marker": {
             "colorbar": {
              "outlinewidth": 0,
              "ticks": ""
             }
            },
            "type": "histogram"
           }
          ],
          "histogram2d": [
           {
            "colorbar": {
             "outlinewidth": 0,
             "ticks": ""
            },
            "colorscale": [
             [
              0,
              "#0d0887"
             ],
             [
              0.1111111111111111,
              "#46039f"
             ],
             [
              0.2222222222222222,
              "#7201a8"
             ],
             [
              0.3333333333333333,
              "#9c179e"
             ],
             [
              0.4444444444444444,
              "#bd3786"
             ],
             [
              0.5555555555555556,
              "#d8576b"
             ],
             [
              0.6666666666666666,
              "#ed7953"
             ],
             [
              0.7777777777777778,
              "#fb9f3a"
             ],
             [
              0.8888888888888888,
              "#fdca26"
             ],
             [
              1,
              "#f0f921"
             ]
            ],
            "type": "histogram2d"
           }
          ],
          "histogram2dcontour": [
           {
            "colorbar": {
             "outlinewidth": 0,
             "ticks": ""
            },
            "colorscale": [
             [
              0,
              "#0d0887"
             ],
             [
              0.1111111111111111,
              "#46039f"
             ],
             [
              0.2222222222222222,
              "#7201a8"
             ],
             [
              0.3333333333333333,
              "#9c179e"
             ],
             [
              0.4444444444444444,
              "#bd3786"
             ],
             [
              0.5555555555555556,
              "#d8576b"
             ],
             [
              0.6666666666666666,
              "#ed7953"
             ],
             [
              0.7777777777777778,
              "#fb9f3a"
             ],
             [
              0.8888888888888888,
              "#fdca26"
             ],
             [
              1,
              "#f0f921"
             ]
            ],
            "type": "histogram2dcontour"
           }
          ],
          "mesh3d": [
           {
            "colorbar": {
             "outlinewidth": 0,
             "ticks": ""
            },
            "type": "mesh3d"
           }
          ],
          "parcoords": [
           {
            "line": {
             "colorbar": {
              "outlinewidth": 0,
              "ticks": ""
             }
            },
            "type": "parcoords"
           }
          ],
          "pie": [
           {
            "automargin": true,
            "type": "pie"
           }
          ],
          "scatter": [
           {
            "marker": {
             "colorbar": {
              "outlinewidth": 0,
              "ticks": ""
             }
            },
            "type": "scatter"
           }
          ],
          "scatter3d": [
           {
            "line": {
             "colorbar": {
              "outlinewidth": 0,
              "ticks": ""
             }
            },
            "marker": {
             "colorbar": {
              "outlinewidth": 0,
              "ticks": ""
             }
            },
            "type": "scatter3d"
           }
          ],
          "scattercarpet": [
           {
            "marker": {
             "colorbar": {
              "outlinewidth": 0,
              "ticks": ""
             }
            },
            "type": "scattercarpet"
           }
          ],
          "scattergeo": [
           {
            "marker": {
             "colorbar": {
              "outlinewidth": 0,
              "ticks": ""
             }
            },
            "type": "scattergeo"
           }
          ],
          "scattergl": [
           {
            "marker": {
             "colorbar": {
              "outlinewidth": 0,
              "ticks": ""
             }
            },
            "type": "scattergl"
           }
          ],
          "scattermapbox": [
           {
            "marker": {
             "colorbar": {
              "outlinewidth": 0,
              "ticks": ""
             }
            },
            "type": "scattermapbox"
           }
          ],
          "scatterpolar": [
           {
            "marker": {
             "colorbar": {
              "outlinewidth": 0,
              "ticks": ""
             }
            },
            "type": "scatterpolar"
           }
          ],
          "scatterpolargl": [
           {
            "marker": {
             "colorbar": {
              "outlinewidth": 0,
              "ticks": ""
             }
            },
            "type": "scatterpolargl"
           }
          ],
          "scatterternary": [
           {
            "marker": {
             "colorbar": {
              "outlinewidth": 0,
              "ticks": ""
             }
            },
            "type": "scatterternary"
           }
          ],
          "surface": [
           {
            "colorbar": {
             "outlinewidth": 0,
             "ticks": ""
            },
            "colorscale": [
             [
              0,
              "#0d0887"
             ],
             [
              0.1111111111111111,
              "#46039f"
             ],
             [
              0.2222222222222222,
              "#7201a8"
             ],
             [
              0.3333333333333333,
              "#9c179e"
             ],
             [
              0.4444444444444444,
              "#bd3786"
             ],
             [
              0.5555555555555556,
              "#d8576b"
             ],
             [
              0.6666666666666666,
              "#ed7953"
             ],
             [
              0.7777777777777778,
              "#fb9f3a"
             ],
             [
              0.8888888888888888,
              "#fdca26"
             ],
             [
              1,
              "#f0f921"
             ]
            ],
            "type": "surface"
           }
          ],
          "table": [
           {
            "cells": {
             "fill": {
              "color": "#EBF0F8"
             },
             "line": {
              "color": "white"
             }
            },
            "header": {
             "fill": {
              "color": "#C8D4E3"
             },
             "line": {
              "color": "white"
             }
            },
            "type": "table"
           }
          ]
         },
         "layout": {
          "annotationdefaults": {
           "arrowcolor": "#2a3f5f",
           "arrowhead": 0,
           "arrowwidth": 1
          },
          "autotypenumbers": "strict",
          "coloraxis": {
           "colorbar": {
            "outlinewidth": 0,
            "ticks": ""
           }
          },
          "colorscale": {
           "diverging": [
            [
             0,
             "#8e0152"
            ],
            [
             0.1,
             "#c51b7d"
            ],
            [
             0.2,
             "#de77ae"
            ],
            [
             0.3,
             "#f1b6da"
            ],
            [
             0.4,
             "#fde0ef"
            ],
            [
             0.5,
             "#f7f7f7"
            ],
            [
             0.6,
             "#e6f5d0"
            ],
            [
             0.7,
             "#b8e186"
            ],
            [
             0.8,
             "#7fbc41"
            ],
            [
             0.9,
             "#4d9221"
            ],
            [
             1,
             "#276419"
            ]
           ],
           "sequential": [
            [
             0,
             "#0d0887"
            ],
            [
             0.1111111111111111,
             "#46039f"
            ],
            [
             0.2222222222222222,
             "#7201a8"
            ],
            [
             0.3333333333333333,
             "#9c179e"
            ],
            [
             0.4444444444444444,
             "#bd3786"
            ],
            [
             0.5555555555555556,
             "#d8576b"
            ],
            [
             0.6666666666666666,
             "#ed7953"
            ],
            [
             0.7777777777777778,
             "#fb9f3a"
            ],
            [
             0.8888888888888888,
             "#fdca26"
            ],
            [
             1,
             "#f0f921"
            ]
           ],
           "sequentialminus": [
            [
             0,
             "#0d0887"
            ],
            [
             0.1111111111111111,
             "#46039f"
            ],
            [
             0.2222222222222222,
             "#7201a8"
            ],
            [
             0.3333333333333333,
             "#9c179e"
            ],
            [
             0.4444444444444444,
             "#bd3786"
            ],
            [
             0.5555555555555556,
             "#d8576b"
            ],
            [
             0.6666666666666666,
             "#ed7953"
            ],
            [
             0.7777777777777778,
             "#fb9f3a"
            ],
            [
             0.8888888888888888,
             "#fdca26"
            ],
            [
             1,
             "#f0f921"
            ]
           ]
          },
          "colorway": [
           "#636efa",
           "#EF553B",
           "#00cc96",
           "#ab63fa",
           "#FFA15A",
           "#19d3f3",
           "#FF6692",
           "#B6E880",
           "#FF97FF",
           "#FECB52"
          ],
          "font": {
           "color": "#2a3f5f"
          },
          "geo": {
           "bgcolor": "white",
           "lakecolor": "white",
           "landcolor": "#E5ECF6",
           "showlakes": true,
           "showland": true,
           "subunitcolor": "white"
          },
          "hoverlabel": {
           "align": "left"
          },
          "hovermode": "closest",
          "mapbox": {
           "style": "light"
          },
          "paper_bgcolor": "white",
          "plot_bgcolor": "#E5ECF6",
          "polar": {
           "angularaxis": {
            "gridcolor": "white",
            "linecolor": "white",
            "ticks": ""
           },
           "bgcolor": "#E5ECF6",
           "radialaxis": {
            "gridcolor": "white",
            "linecolor": "white",
            "ticks": ""
           }
          },
          "scene": {
           "xaxis": {
            "backgroundcolor": "#E5ECF6",
            "gridcolor": "white",
            "gridwidth": 2,
            "linecolor": "white",
            "showbackground": true,
            "ticks": "",
            "zerolinecolor": "white"
           },
           "yaxis": {
            "backgroundcolor": "#E5ECF6",
            "gridcolor": "white",
            "gridwidth": 2,
            "linecolor": "white",
            "showbackground": true,
            "ticks": "",
            "zerolinecolor": "white"
           },
           "zaxis": {
            "backgroundcolor": "#E5ECF6",
            "gridcolor": "white",
            "gridwidth": 2,
            "linecolor": "white",
            "showbackground": true,
            "ticks": "",
            "zerolinecolor": "white"
           }
          },
          "shapedefaults": {
           "line": {
            "color": "#2a3f5f"
           }
          },
          "ternary": {
           "aaxis": {
            "gridcolor": "white",
            "linecolor": "white",
            "ticks": ""
           },
           "baxis": {
            "gridcolor": "white",
            "linecolor": "white",
            "ticks": ""
           },
           "bgcolor": "#E5ECF6",
           "caxis": {
            "gridcolor": "white",
            "linecolor": "white",
            "ticks": ""
           }
          },
          "title": {
           "x": 0.05
          },
          "xaxis": {
           "automargin": true,
           "gridcolor": "white",
           "linecolor": "white",
           "ticks": "",
           "title": {
            "standoff": 15
           },
           "zerolinecolor": "white",
           "zerolinewidth": 2
          },
          "yaxis": {
           "automargin": true,
           "gridcolor": "white",
           "linecolor": "white",
           "ticks": "",
           "title": {
            "standoff": 15
           },
           "zerolinecolor": "white",
           "zerolinewidth": 2
          }
         }
        },
        "title": {
         "text": "Food Recovered by Retailer Type"
        },
        "xaxis": {
         "anchor": "y",
         "domain": [
          0,
          1
         ],
         "title": {
          "text": "Retailer Type"
         }
        },
        "yaxis": {
         "anchor": "x",
         "domain": [
          0,
          1
         ],
         "title": {
          "text": "Number of Foods Recovered"
         }
        }
       }
      }
     },
     "metadata": {}
    }
   ],
   "source": [
    "df['retailer_type'].value_counts().reset_index()\n",
    "fig1=px.bar(df['retailer_type'].value_counts().reset_index(),x='index',y='retailer_type', labels={'index':'Retailer Type','retailer_type':'Number of Foods Recovered'}, title='Food Recovered by Retailer Type')\n",
    "fig1.show()"
   ]
  },
  {
   "source": [
    "## The most food was recovered from drugstores, the least from a coffee shop\n"
   ],
   "cell_type": "markdown",
   "metadata": {}
  },
  {
   "source": [
    "Do foods labeled as organic get trashed differently than foods not labeled organic?\n",
    "We can use the food-detail column to grab whether or not the food is organic"
   ],
   "cell_type": "markdown",
   "metadata": {}
  },
  {
   "cell_type": "code",
   "execution_count": 14,
   "metadata": {},
   "outputs": [
    {
     "output_type": "execute_result",
     "data": {
      "text/plain": [
       "                         id date_collected    retailer_type  \\\n",
       "0  5e31d5503b85a2e63d634187     2020-01-27  counter service   \n",
       "1  5e31d5643b85a2e63d634188     2020-01-27  counter service   \n",
       "2  5e31d8903b85a2e63d634189     2020-01-27  counter service   \n",
       "3  5e31dcee3b85a2e63d63418a     2020-01-27  counter service   \n",
       "4  5e31dd273b85a2e63d63418b     2020-01-27  counter service   \n",
       "\n",
       "                            retailer_detail     food_type  \\\n",
       "0  ready-to-eat and prepackaged health food  ready-to-eat   \n",
       "1  ready-to-eat and prepackaged health food  ready-to-eat   \n",
       "2  ready-to-eat and prepackaged health food  ready-to-eat   \n",
       "3  ready-to-eat and prepackaged health food  ready-to-eat   \n",
       "4  ready-to-eat and prepackaged health food  ready-to-eat   \n",
       "\n",
       "                    food_detail label_type label_language label_date  \\\n",
       "0               organic oatmeal    sticker         use by 2020-01-28   \n",
       "1               organic oatmeal    sticker         use by 2020-01-28   \n",
       "2  organic middle eastern salad    sticker         use by 2020-01-28   \n",
       "3               organic oatmeal    sticker         use by 2020-01-28   \n",
       "4         organic mexican salad    sticker         use by 2020-01-28   \n",
       "\n",
       "   approximate_dollar_value  collection_lat  collection_long  \n",
       "0                      5.25        40.69453        -73.99447  \n",
       "1                      5.25        40.69453        -73.99447  \n",
       "2                     10.00        40.69453        -73.99447  \n",
       "3                      6.25        40.69453        -73.99447  \n",
       "4                     10.00        40.69453        -73.99447  "
      ],
      "text/html": "<div>\n<style scoped>\n    .dataframe tbody tr th:only-of-type {\n        vertical-align: middle;\n    }\n\n    .dataframe tbody tr th {\n        vertical-align: top;\n    }\n\n    .dataframe thead th {\n        text-align: right;\n    }\n</style>\n<table border=\"1\" class=\"dataframe\">\n  <thead>\n    <tr style=\"text-align: right;\">\n      <th></th>\n      <th>id</th>\n      <th>date_collected</th>\n      <th>retailer_type</th>\n      <th>retailer_detail</th>\n      <th>food_type</th>\n      <th>food_detail</th>\n      <th>label_type</th>\n      <th>label_language</th>\n      <th>label_date</th>\n      <th>approximate_dollar_value</th>\n      <th>collection_lat</th>\n      <th>collection_long</th>\n    </tr>\n  </thead>\n  <tbody>\n    <tr>\n      <th>0</th>\n      <td>5e31d5503b85a2e63d634187</td>\n      <td>2020-01-27</td>\n      <td>counter service</td>\n      <td>ready-to-eat and prepackaged health food</td>\n      <td>ready-to-eat</td>\n      <td>organic oatmeal</td>\n      <td>sticker</td>\n      <td>use by</td>\n      <td>2020-01-28</td>\n      <td>5.25</td>\n      <td>40.69453</td>\n      <td>-73.99447</td>\n    </tr>\n    <tr>\n      <th>1</th>\n      <td>5e31d5643b85a2e63d634188</td>\n      <td>2020-01-27</td>\n      <td>counter service</td>\n      <td>ready-to-eat and prepackaged health food</td>\n      <td>ready-to-eat</td>\n      <td>organic oatmeal</td>\n      <td>sticker</td>\n      <td>use by</td>\n      <td>2020-01-28</td>\n      <td>5.25</td>\n      <td>40.69453</td>\n      <td>-73.99447</td>\n    </tr>\n    <tr>\n      <th>2</th>\n      <td>5e31d8903b85a2e63d634189</td>\n      <td>2020-01-27</td>\n      <td>counter service</td>\n      <td>ready-to-eat and prepackaged health food</td>\n      <td>ready-to-eat</td>\n      <td>organic middle eastern salad</td>\n      <td>sticker</td>\n      <td>use by</td>\n      <td>2020-01-28</td>\n      <td>10.00</td>\n      <td>40.69453</td>\n      <td>-73.99447</td>\n    </tr>\n    <tr>\n      <th>3</th>\n      <td>5e31dcee3b85a2e63d63418a</td>\n      <td>2020-01-27</td>\n      <td>counter service</td>\n      <td>ready-to-eat and prepackaged health food</td>\n      <td>ready-to-eat</td>\n      <td>organic oatmeal</td>\n      <td>sticker</td>\n      <td>use by</td>\n      <td>2020-01-28</td>\n      <td>6.25</td>\n      <td>40.69453</td>\n      <td>-73.99447</td>\n    </tr>\n    <tr>\n      <th>4</th>\n      <td>5e31dd273b85a2e63d63418b</td>\n      <td>2020-01-27</td>\n      <td>counter service</td>\n      <td>ready-to-eat and prepackaged health food</td>\n      <td>ready-to-eat</td>\n      <td>organic mexican salad</td>\n      <td>sticker</td>\n      <td>use by</td>\n      <td>2020-01-28</td>\n      <td>10.00</td>\n      <td>40.69453</td>\n      <td>-73.99447</td>\n    </tr>\n  </tbody>\n</table>\n</div>"
     },
     "metadata": {},
     "execution_count": 14
    }
   ],
   "source": [
    "df.head()"
   ]
  },
  {
   "cell_type": "code",
   "execution_count": 15,
   "metadata": {},
   "outputs": [
    {
     "output_type": "execute_result",
     "data": {
      "text/plain": [
       "                           id date_collected       retailer_type  \\\n",
       "9    5e442b00c435958777371fc6     2020-02-11  health food grocer   \n",
       "10   5e442be9c435958777371fc7     2020-02-11  health food grocer   \n",
       "12   5e4435a1c435958777371fc9     2020-02-11  health food grocer   \n",
       "18   5e444759c435958777371fcf     2020-02-11  health food grocer   \n",
       "20   5e444b3bc435958777371fd1     2020-02-11  health food grocer   \n",
       "..                        ...            ...                 ...   \n",
       "166  6025c0f0725181c8c293646d     2021-02-05           drugstore   \n",
       "167  6025c0fb725181c8c293646e     2021-02-05           drugstore   \n",
       "168  6025c15f725181c8c293646f     2021-02-05           drugstore   \n",
       "169  6025c1ed725181c8c2936470     2021-02-05           drugstore   \n",
       "170  6025c343725181c8c2936471     2021-02-05           drugstore   \n",
       "\n",
       "                                       retailer_detail   food_type  \\\n",
       "9    ready-to-eat, shelf-stable, frozen, and perish...  perishable   \n",
       "10   ready-to-eat, shelf-stable, frozen, and perish...  perishable   \n",
       "12   ready-to-eat, shelf-stable, frozen, and perish...  perishable   \n",
       "18   ready-to-eat, shelf-stable, frozen, and perish...  perishable   \n",
       "20   ready-to-eat, shelf-stable, frozen, and perish...  perishable   \n",
       "..                                                 ...         ...   \n",
       "166        ready-to-eat, shelf-stable, and frozen food  perishable   \n",
       "167        ready-to-eat, shelf-stable, and frozen food  perishable   \n",
       "168        ready-to-eat, shelf-stable, and frozen food  perishable   \n",
       "169        ready-to-eat, shelf-stable, and frozen food  perishable   \n",
       "170        ready-to-eat, shelf-stable, and frozen food    packaged   \n",
       "\n",
       "                      food_detail       label_type label_language label_date  \\\n",
       "9                          yogurt  package printed            NaN 2020-02-11   \n",
       "10                         yogurt  package printed            NaN 2020-02-11   \n",
       "12                         yogurt  package printed            NaN 2020-01-01   \n",
       "18             brown rice torilla  package printed       t2513 dv 2019-09-11   \n",
       "20   millet and chia sliced bread          sticker            NaN 2020-02-11   \n",
       "..                            ...              ...            ...        ...   \n",
       "166     mandarin orange fruit cup  package printed        best by 2021-07-20   \n",
       "167     mandarin orange fruit cup  package printed        best by 2021-07-20   \n",
       "168     flatbread pepperoni pizza  package printed         use by 2021-02-05   \n",
       "169     mandarin orange fruit cup  package printed             bb 2021-12-12   \n",
       "170          multivitamin gummies  package printed            exp 2022-07-01   \n",
       "\n",
       "     approximate_dollar_value  collection_lat  collection_long  \n",
       "9                        3.99        40.69335        -73.99150  \n",
       "10                       3.99        40.69335        -73.99150  \n",
       "12                       1.25        40.69335        -73.99150  \n",
       "18                       4.38        40.69335        -73.99150  \n",
       "20                       6.99        40.69335        -73.99150  \n",
       "..                        ...             ...              ...  \n",
       "166                      1.99        40.69120        -73.98716  \n",
       "167                      1.99        40.69120        -73.98716  \n",
       "168                      1.99        40.69120        -73.98716  \n",
       "169                      1.99        40.69120        -73.98716  \n",
       "170                     16.99        40.69120        -73.98716  \n",
       "\n",
       "[143 rows x 12 columns]"
      ],
      "text/html": "<div>\n<style scoped>\n    .dataframe tbody tr th:only-of-type {\n        vertical-align: middle;\n    }\n\n    .dataframe tbody tr th {\n        vertical-align: top;\n    }\n\n    .dataframe thead th {\n        text-align: right;\n    }\n</style>\n<table border=\"1\" class=\"dataframe\">\n  <thead>\n    <tr style=\"text-align: right;\">\n      <th></th>\n      <th>id</th>\n      <th>date_collected</th>\n      <th>retailer_type</th>\n      <th>retailer_detail</th>\n      <th>food_type</th>\n      <th>food_detail</th>\n      <th>label_type</th>\n      <th>label_language</th>\n      <th>label_date</th>\n      <th>approximate_dollar_value</th>\n      <th>collection_lat</th>\n      <th>collection_long</th>\n    </tr>\n  </thead>\n  <tbody>\n    <tr>\n      <th>9</th>\n      <td>5e442b00c435958777371fc6</td>\n      <td>2020-02-11</td>\n      <td>health food grocer</td>\n      <td>ready-to-eat, shelf-stable, frozen, and perish...</td>\n      <td>perishable</td>\n      <td>yogurt</td>\n      <td>package printed</td>\n      <td>NaN</td>\n      <td>2020-02-11</td>\n      <td>3.99</td>\n      <td>40.69335</td>\n      <td>-73.99150</td>\n    </tr>\n    <tr>\n      <th>10</th>\n      <td>5e442be9c435958777371fc7</td>\n      <td>2020-02-11</td>\n      <td>health food grocer</td>\n      <td>ready-to-eat, shelf-stable, frozen, and perish...</td>\n      <td>perishable</td>\n      <td>yogurt</td>\n      <td>package printed</td>\n      <td>NaN</td>\n      <td>2020-02-11</td>\n      <td>3.99</td>\n      <td>40.69335</td>\n      <td>-73.99150</td>\n    </tr>\n    <tr>\n      <th>12</th>\n      <td>5e4435a1c435958777371fc9</td>\n      <td>2020-02-11</td>\n      <td>health food grocer</td>\n      <td>ready-to-eat, shelf-stable, frozen, and perish...</td>\n      <td>perishable</td>\n      <td>yogurt</td>\n      <td>package printed</td>\n      <td>NaN</td>\n      <td>2020-01-01</td>\n      <td>1.25</td>\n      <td>40.69335</td>\n      <td>-73.99150</td>\n    </tr>\n    <tr>\n      <th>18</th>\n      <td>5e444759c435958777371fcf</td>\n      <td>2020-02-11</td>\n      <td>health food grocer</td>\n      <td>ready-to-eat, shelf-stable, frozen, and perish...</td>\n      <td>perishable</td>\n      <td>brown rice torilla</td>\n      <td>package printed</td>\n      <td>t2513 dv</td>\n      <td>2019-09-11</td>\n      <td>4.38</td>\n      <td>40.69335</td>\n      <td>-73.99150</td>\n    </tr>\n    <tr>\n      <th>20</th>\n      <td>5e444b3bc435958777371fd1</td>\n      <td>2020-02-11</td>\n      <td>health food grocer</td>\n      <td>ready-to-eat, shelf-stable, frozen, and perish...</td>\n      <td>perishable</td>\n      <td>millet and chia sliced bread</td>\n      <td>sticker</td>\n      <td>NaN</td>\n      <td>2020-02-11</td>\n      <td>6.99</td>\n      <td>40.69335</td>\n      <td>-73.99150</td>\n    </tr>\n    <tr>\n      <th>...</th>\n      <td>...</td>\n      <td>...</td>\n      <td>...</td>\n      <td>...</td>\n      <td>...</td>\n      <td>...</td>\n      <td>...</td>\n      <td>...</td>\n      <td>...</td>\n      <td>...</td>\n      <td>...</td>\n      <td>...</td>\n    </tr>\n    <tr>\n      <th>166</th>\n      <td>6025c0f0725181c8c293646d</td>\n      <td>2021-02-05</td>\n      <td>drugstore</td>\n      <td>ready-to-eat, shelf-stable, and frozen food</td>\n      <td>perishable</td>\n      <td>mandarin orange fruit cup</td>\n      <td>package printed</td>\n      <td>best by</td>\n      <td>2021-07-20</td>\n      <td>1.99</td>\n      <td>40.69120</td>\n      <td>-73.98716</td>\n    </tr>\n    <tr>\n      <th>167</th>\n      <td>6025c0fb725181c8c293646e</td>\n      <td>2021-02-05</td>\n      <td>drugstore</td>\n      <td>ready-to-eat, shelf-stable, and frozen food</td>\n      <td>perishable</td>\n      <td>mandarin orange fruit cup</td>\n      <td>package printed</td>\n      <td>best by</td>\n      <td>2021-07-20</td>\n      <td>1.99</td>\n      <td>40.69120</td>\n      <td>-73.98716</td>\n    </tr>\n    <tr>\n      <th>168</th>\n      <td>6025c15f725181c8c293646f</td>\n      <td>2021-02-05</td>\n      <td>drugstore</td>\n      <td>ready-to-eat, shelf-stable, and frozen food</td>\n      <td>perishable</td>\n      <td>flatbread pepperoni pizza</td>\n      <td>package printed</td>\n      <td>use by</td>\n      <td>2021-02-05</td>\n      <td>1.99</td>\n      <td>40.69120</td>\n      <td>-73.98716</td>\n    </tr>\n    <tr>\n      <th>169</th>\n      <td>6025c1ed725181c8c2936470</td>\n      <td>2021-02-05</td>\n      <td>drugstore</td>\n      <td>ready-to-eat, shelf-stable, and frozen food</td>\n      <td>perishable</td>\n      <td>mandarin orange fruit cup</td>\n      <td>package printed</td>\n      <td>bb</td>\n      <td>2021-12-12</td>\n      <td>1.99</td>\n      <td>40.69120</td>\n      <td>-73.98716</td>\n    </tr>\n    <tr>\n      <th>170</th>\n      <td>6025c343725181c8c2936471</td>\n      <td>2021-02-05</td>\n      <td>drugstore</td>\n      <td>ready-to-eat, shelf-stable, and frozen food</td>\n      <td>packaged</td>\n      <td>multivitamin gummies</td>\n      <td>package printed</td>\n      <td>exp</td>\n      <td>2022-07-01</td>\n      <td>16.99</td>\n      <td>40.69120</td>\n      <td>-73.98716</td>\n    </tr>\n  </tbody>\n</table>\n<p>143 rows × 12 columns</p>\n</div>"
     },
     "metadata": {},
     "execution_count": 15
    }
   ],
   "source": [
    "df.loc[~df['food_detail'].str.contains('organic')]"
   ]
  },
  {
   "source": [
    "## This creates a new column to label whether the food is labeled oganic or not\n",
    "\n",
    "1 = labeled organic\n",
    "0 = not labeled organic"
   ],
   "cell_type": "markdown",
   "metadata": {}
  },
  {
   "cell_type": "code",
   "execution_count": 16,
   "metadata": {},
   "outputs": [
    {
     "output_type": "execute_result",
     "data": {
      "text/plain": [
       "                         id date_collected    retailer_type  \\\n",
       "0  5e31d5503b85a2e63d634187     2020-01-27  counter service   \n",
       "1  5e31d5643b85a2e63d634188     2020-01-27  counter service   \n",
       "2  5e31d8903b85a2e63d634189     2020-01-27  counter service   \n",
       "3  5e31dcee3b85a2e63d63418a     2020-01-27  counter service   \n",
       "4  5e31dd273b85a2e63d63418b     2020-01-27  counter service   \n",
       "\n",
       "                            retailer_detail     food_type  \\\n",
       "0  ready-to-eat and prepackaged health food  ready-to-eat   \n",
       "1  ready-to-eat and prepackaged health food  ready-to-eat   \n",
       "2  ready-to-eat and prepackaged health food  ready-to-eat   \n",
       "3  ready-to-eat and prepackaged health food  ready-to-eat   \n",
       "4  ready-to-eat and prepackaged health food  ready-to-eat   \n",
       "\n",
       "                    food_detail label_type label_language label_date  \\\n",
       "0               organic oatmeal    sticker         use by 2020-01-28   \n",
       "1               organic oatmeal    sticker         use by 2020-01-28   \n",
       "2  organic middle eastern salad    sticker         use by 2020-01-28   \n",
       "3               organic oatmeal    sticker         use by 2020-01-28   \n",
       "4         organic mexican salad    sticker         use by 2020-01-28   \n",
       "\n",
       "   approximate_dollar_value  collection_lat  collection_long  is_organic  \n",
       "0                      5.25        40.69453        -73.99447           1  \n",
       "1                      5.25        40.69453        -73.99447           1  \n",
       "2                     10.00        40.69453        -73.99447           1  \n",
       "3                      6.25        40.69453        -73.99447           1  \n",
       "4                     10.00        40.69453        -73.99447           1  "
      ],
      "text/html": "<div>\n<style scoped>\n    .dataframe tbody tr th:only-of-type {\n        vertical-align: middle;\n    }\n\n    .dataframe tbody tr th {\n        vertical-align: top;\n    }\n\n    .dataframe thead th {\n        text-align: right;\n    }\n</style>\n<table border=\"1\" class=\"dataframe\">\n  <thead>\n    <tr style=\"text-align: right;\">\n      <th></th>\n      <th>id</th>\n      <th>date_collected</th>\n      <th>retailer_type</th>\n      <th>retailer_detail</th>\n      <th>food_type</th>\n      <th>food_detail</th>\n      <th>label_type</th>\n      <th>label_language</th>\n      <th>label_date</th>\n      <th>approximate_dollar_value</th>\n      <th>collection_lat</th>\n      <th>collection_long</th>\n      <th>is_organic</th>\n    </tr>\n  </thead>\n  <tbody>\n    <tr>\n      <th>0</th>\n      <td>5e31d5503b85a2e63d634187</td>\n      <td>2020-01-27</td>\n      <td>counter service</td>\n      <td>ready-to-eat and prepackaged health food</td>\n      <td>ready-to-eat</td>\n      <td>organic oatmeal</td>\n      <td>sticker</td>\n      <td>use by</td>\n      <td>2020-01-28</td>\n      <td>5.25</td>\n      <td>40.69453</td>\n      <td>-73.99447</td>\n      <td>1</td>\n    </tr>\n    <tr>\n      <th>1</th>\n      <td>5e31d5643b85a2e63d634188</td>\n      <td>2020-01-27</td>\n      <td>counter service</td>\n      <td>ready-to-eat and prepackaged health food</td>\n      <td>ready-to-eat</td>\n      <td>organic oatmeal</td>\n      <td>sticker</td>\n      <td>use by</td>\n      <td>2020-01-28</td>\n      <td>5.25</td>\n      <td>40.69453</td>\n      <td>-73.99447</td>\n      <td>1</td>\n    </tr>\n    <tr>\n      <th>2</th>\n      <td>5e31d8903b85a2e63d634189</td>\n      <td>2020-01-27</td>\n      <td>counter service</td>\n      <td>ready-to-eat and prepackaged health food</td>\n      <td>ready-to-eat</td>\n      <td>organic middle eastern salad</td>\n      <td>sticker</td>\n      <td>use by</td>\n      <td>2020-01-28</td>\n      <td>10.00</td>\n      <td>40.69453</td>\n      <td>-73.99447</td>\n      <td>1</td>\n    </tr>\n    <tr>\n      <th>3</th>\n      <td>5e31dcee3b85a2e63d63418a</td>\n      <td>2020-01-27</td>\n      <td>counter service</td>\n      <td>ready-to-eat and prepackaged health food</td>\n      <td>ready-to-eat</td>\n      <td>organic oatmeal</td>\n      <td>sticker</td>\n      <td>use by</td>\n      <td>2020-01-28</td>\n      <td>6.25</td>\n      <td>40.69453</td>\n      <td>-73.99447</td>\n      <td>1</td>\n    </tr>\n    <tr>\n      <th>4</th>\n      <td>5e31dd273b85a2e63d63418b</td>\n      <td>2020-01-27</td>\n      <td>counter service</td>\n      <td>ready-to-eat and prepackaged health food</td>\n      <td>ready-to-eat</td>\n      <td>organic mexican salad</td>\n      <td>sticker</td>\n      <td>use by</td>\n      <td>2020-01-28</td>\n      <td>10.00</td>\n      <td>40.69453</td>\n      <td>-73.99447</td>\n      <td>1</td>\n    </tr>\n  </tbody>\n</table>\n</div>"
     },
     "metadata": {},
     "execution_count": 16
    }
   ],
   "source": [
    "condition=[\n",
    "    (df['food_detail'].str.contains('organic') == True),\n",
    "    (df['food_detail'].str.contains('organic') == False)]\n",
    "value=[1,0]\n",
    "df['is_organic']=np.select(condition, value)\n",
    "df.head()"
   ]
  },
  {
   "cell_type": "code",
   "execution_count": 50,
   "metadata": {},
   "outputs": [
    {
     "output_type": "display_data",
     "data": {
      "application/vnd.plotly.v1+json": {
       "config": {
        "plotlyServerURL": "https://plot.ly"
       },
       "data": [
        {
         "domain": {
          "x": [
           0,
           1
          ],
          "y": [
           0,
           1
          ]
         },
         "hovertemplate": "label=%{label}<br>value=%{value}<extra></extra>",
         "labels": [
          "Not Organic",
          "Organic"
         ],
         "legendgroup": "",
         "name": "",
         "showlegend": true,
         "type": "pie",
         "values": [
          143,
          28
         ]
        }
       ],
       "layout": {
        "legend": {
         "tracegroupgap": 0
        },
        "template": {
         "data": {
          "bar": [
           {
            "error_x": {
             "color": "#2a3f5f"
            },
            "error_y": {
             "color": "#2a3f5f"
            },
            "marker": {
             "line": {
              "color": "#E5ECF6",
              "width": 0.5
             }
            },
            "type": "bar"
           }
          ],
          "barpolar": [
           {
            "marker": {
             "line": {
              "color": "#E5ECF6",
              "width": 0.5
             }
            },
            "type": "barpolar"
           }
          ],
          "carpet": [
           {
            "aaxis": {
             "endlinecolor": "#2a3f5f",
             "gridcolor": "white",
             "linecolor": "white",
             "minorgridcolor": "white",
             "startlinecolor": "#2a3f5f"
            },
            "baxis": {
             "endlinecolor": "#2a3f5f",
             "gridcolor": "white",
             "linecolor": "white",
             "minorgridcolor": "white",
             "startlinecolor": "#2a3f5f"
            },
            "type": "carpet"
           }
          ],
          "choropleth": [
           {
            "colorbar": {
             "outlinewidth": 0,
             "ticks": ""
            },
            "type": "choropleth"
           }
          ],
          "contour": [
           {
            "colorbar": {
             "outlinewidth": 0,
             "ticks": ""
            },
            "colorscale": [
             [
              0,
              "#0d0887"
             ],
             [
              0.1111111111111111,
              "#46039f"
             ],
             [
              0.2222222222222222,
              "#7201a8"
             ],
             [
              0.3333333333333333,
              "#9c179e"
             ],
             [
              0.4444444444444444,
              "#bd3786"
             ],
             [
              0.5555555555555556,
              "#d8576b"
             ],
             [
              0.6666666666666666,
              "#ed7953"
             ],
             [
              0.7777777777777778,
              "#fb9f3a"
             ],
             [
              0.8888888888888888,
              "#fdca26"
             ],
             [
              1,
              "#f0f921"
             ]
            ],
            "type": "contour"
           }
          ],
          "contourcarpet": [
           {
            "colorbar": {
             "outlinewidth": 0,
             "ticks": ""
            },
            "type": "contourcarpet"
           }
          ],
          "heatmap": [
           {
            "colorbar": {
             "outlinewidth": 0,
             "ticks": ""
            },
            "colorscale": [
             [
              0,
              "#0d0887"
             ],
             [
              0.1111111111111111,
              "#46039f"
             ],
             [
              0.2222222222222222,
              "#7201a8"
             ],
             [
              0.3333333333333333,
              "#9c179e"
             ],
             [
              0.4444444444444444,
              "#bd3786"
             ],
             [
              0.5555555555555556,
              "#d8576b"
             ],
             [
              0.6666666666666666,
              "#ed7953"
             ],
             [
              0.7777777777777778,
              "#fb9f3a"
             ],
             [
              0.8888888888888888,
              "#fdca26"
             ],
             [
              1,
              "#f0f921"
             ]
            ],
            "type": "heatmap"
           }
          ],
          "heatmapgl": [
           {
            "colorbar": {
             "outlinewidth": 0,
             "ticks": ""
            },
            "colorscale": [
             [
              0,
              "#0d0887"
             ],
             [
              0.1111111111111111,
              "#46039f"
             ],
             [
              0.2222222222222222,
              "#7201a8"
             ],
             [
              0.3333333333333333,
              "#9c179e"
             ],
             [
              0.4444444444444444,
              "#bd3786"
             ],
             [
              0.5555555555555556,
              "#d8576b"
             ],
             [
              0.6666666666666666,
              "#ed7953"
             ],
             [
              0.7777777777777778,
              "#fb9f3a"
             ],
             [
              0.8888888888888888,
              "#fdca26"
             ],
             [
              1,
              "#f0f921"
             ]
            ],
            "type": "heatmapgl"
           }
          ],
          "histogram": [
           {
            "marker": {
             "colorbar": {
              "outlinewidth": 0,
              "ticks": ""
             }
            },
            "type": "histogram"
           }
          ],
          "histogram2d": [
           {
            "colorbar": {
             "outlinewidth": 0,
             "ticks": ""
            },
            "colorscale": [
             [
              0,
              "#0d0887"
             ],
             [
              0.1111111111111111,
              "#46039f"
             ],
             [
              0.2222222222222222,
              "#7201a8"
             ],
             [
              0.3333333333333333,
              "#9c179e"
             ],
             [
              0.4444444444444444,
              "#bd3786"
             ],
             [
              0.5555555555555556,
              "#d8576b"
             ],
             [
              0.6666666666666666,
              "#ed7953"
             ],
             [
              0.7777777777777778,
              "#fb9f3a"
             ],
             [
              0.8888888888888888,
              "#fdca26"
             ],
             [
              1,
              "#f0f921"
             ]
            ],
            "type": "histogram2d"
           }
          ],
          "histogram2dcontour": [
           {
            "colorbar": {
             "outlinewidth": 0,
             "ticks": ""
            },
            "colorscale": [
             [
              0,
              "#0d0887"
             ],
             [
              0.1111111111111111,
              "#46039f"
             ],
             [
              0.2222222222222222,
              "#7201a8"
             ],
             [
              0.3333333333333333,
              "#9c179e"
             ],
             [
              0.4444444444444444,
              "#bd3786"
             ],
             [
              0.5555555555555556,
              "#d8576b"
             ],
             [
              0.6666666666666666,
              "#ed7953"
             ],
             [
              0.7777777777777778,
              "#fb9f3a"
             ],
             [
              0.8888888888888888,
              "#fdca26"
             ],
             [
              1,
              "#f0f921"
             ]
            ],
            "type": "histogram2dcontour"
           }
          ],
          "mesh3d": [
           {
            "colorbar": {
             "outlinewidth": 0,
             "ticks": ""
            },
            "type": "mesh3d"
           }
          ],
          "parcoords": [
           {
            "line": {
             "colorbar": {
              "outlinewidth": 0,
              "ticks": ""
             }
            },
            "type": "parcoords"
           }
          ],
          "pie": [
           {
            "automargin": true,
            "type": "pie"
           }
          ],
          "scatter": [
           {
            "marker": {
             "colorbar": {
              "outlinewidth": 0,
              "ticks": ""
             }
            },
            "type": "scatter"
           }
          ],
          "scatter3d": [
           {
            "line": {
             "colorbar": {
              "outlinewidth": 0,
              "ticks": ""
             }
            },
            "marker": {
             "colorbar": {
              "outlinewidth": 0,
              "ticks": ""
             }
            },
            "type": "scatter3d"
           }
          ],
          "scattercarpet": [
           {
            "marker": {
             "colorbar": {
              "outlinewidth": 0,
              "ticks": ""
             }
            },
            "type": "scattercarpet"
           }
          ],
          "scattergeo": [
           {
            "marker": {
             "colorbar": {
              "outlinewidth": 0,
              "ticks": ""
             }
            },
            "type": "scattergeo"
           }
          ],
          "scattergl": [
           {
            "marker": {
             "colorbar": {
              "outlinewidth": 0,
              "ticks": ""
             }
            },
            "type": "scattergl"
           }
          ],
          "scattermapbox": [
           {
            "marker": {
             "colorbar": {
              "outlinewidth": 0,
              "ticks": ""
             }
            },
            "type": "scattermapbox"
           }
          ],
          "scatterpolar": [
           {
            "marker": {
             "colorbar": {
              "outlinewidth": 0,
              "ticks": ""
             }
            },
            "type": "scatterpolar"
           }
          ],
          "scatterpolargl": [
           {
            "marker": {
             "colorbar": {
              "outlinewidth": 0,
              "ticks": ""
             }
            },
            "type": "scatterpolargl"
           }
          ],
          "scatterternary": [
           {
            "marker": {
             "colorbar": {
              "outlinewidth": 0,
              "ticks": ""
             }
            },
            "type": "scatterternary"
           }
          ],
          "surface": [
           {
            "colorbar": {
             "outlinewidth": 0,
             "ticks": ""
            },
            "colorscale": [
             [
              0,
              "#0d0887"
             ],
             [
              0.1111111111111111,
              "#46039f"
             ],
             [
              0.2222222222222222,
              "#7201a8"
             ],
             [
              0.3333333333333333,
              "#9c179e"
             ],
             [
              0.4444444444444444,
              "#bd3786"
             ],
             [
              0.5555555555555556,
              "#d8576b"
             ],
             [
              0.6666666666666666,
              "#ed7953"
             ],
             [
              0.7777777777777778,
              "#fb9f3a"
             ],
             [
              0.8888888888888888,
              "#fdca26"
             ],
             [
              1,
              "#f0f921"
             ]
            ],
            "type": "surface"
           }
          ],
          "table": [
           {
            "cells": {
             "fill": {
              "color": "#EBF0F8"
             },
             "line": {
              "color": "white"
             }
            },
            "header": {
             "fill": {
              "color": "#C8D4E3"
             },
             "line": {
              "color": "white"
             }
            },
            "type": "table"
           }
          ]
         },
         "layout": {
          "annotationdefaults": {
           "arrowcolor": "#2a3f5f",
           "arrowhead": 0,
           "arrowwidth": 1
          },
          "autotypenumbers": "strict",
          "coloraxis": {
           "colorbar": {
            "outlinewidth": 0,
            "ticks": ""
           }
          },
          "colorscale": {
           "diverging": [
            [
             0,
             "#8e0152"
            ],
            [
             0.1,
             "#c51b7d"
            ],
            [
             0.2,
             "#de77ae"
            ],
            [
             0.3,
             "#f1b6da"
            ],
            [
             0.4,
             "#fde0ef"
            ],
            [
             0.5,
             "#f7f7f7"
            ],
            [
             0.6,
             "#e6f5d0"
            ],
            [
             0.7,
             "#b8e186"
            ],
            [
             0.8,
             "#7fbc41"
            ],
            [
             0.9,
             "#4d9221"
            ],
            [
             1,
             "#276419"
            ]
           ],
           "sequential": [
            [
             0,
             "#0d0887"
            ],
            [
             0.1111111111111111,
             "#46039f"
            ],
            [
             0.2222222222222222,
             "#7201a8"
            ],
            [
             0.3333333333333333,
             "#9c179e"
            ],
            [
             0.4444444444444444,
             "#bd3786"
            ],
            [
             0.5555555555555556,
             "#d8576b"
            ],
            [
             0.6666666666666666,
             "#ed7953"
            ],
            [
             0.7777777777777778,
             "#fb9f3a"
            ],
            [
             0.8888888888888888,
             "#fdca26"
            ],
            [
             1,
             "#f0f921"
            ]
           ],
           "sequentialminus": [
            [
             0,
             "#0d0887"
            ],
            [
             0.1111111111111111,
             "#46039f"
            ],
            [
             0.2222222222222222,
             "#7201a8"
            ],
            [
             0.3333333333333333,
             "#9c179e"
            ],
            [
             0.4444444444444444,
             "#bd3786"
            ],
            [
             0.5555555555555556,
             "#d8576b"
            ],
            [
             0.6666666666666666,
             "#ed7953"
            ],
            [
             0.7777777777777778,
             "#fb9f3a"
            ],
            [
             0.8888888888888888,
             "#fdca26"
            ],
            [
             1,
             "#f0f921"
            ]
           ]
          },
          "colorway": [
           "#636efa",
           "#EF553B",
           "#00cc96",
           "#ab63fa",
           "#FFA15A",
           "#19d3f3",
           "#FF6692",
           "#B6E880",
           "#FF97FF",
           "#FECB52"
          ],
          "font": {
           "color": "#2a3f5f"
          },
          "geo": {
           "bgcolor": "white",
           "lakecolor": "white",
           "landcolor": "#E5ECF6",
           "showlakes": true,
           "showland": true,
           "subunitcolor": "white"
          },
          "hoverlabel": {
           "align": "left"
          },
          "hovermode": "closest",
          "mapbox": {
           "style": "light"
          },
          "paper_bgcolor": "white",
          "plot_bgcolor": "#E5ECF6",
          "polar": {
           "angularaxis": {
            "gridcolor": "white",
            "linecolor": "white",
            "ticks": ""
           },
           "bgcolor": "#E5ECF6",
           "radialaxis": {
            "gridcolor": "white",
            "linecolor": "white",
            "ticks": ""
           }
          },
          "scene": {
           "xaxis": {
            "backgroundcolor": "#E5ECF6",
            "gridcolor": "white",
            "gridwidth": 2,
            "linecolor": "white",
            "showbackground": true,
            "ticks": "",
            "zerolinecolor": "white"
           },
           "yaxis": {
            "backgroundcolor": "#E5ECF6",
            "gridcolor": "white",
            "gridwidth": 2,
            "linecolor": "white",
            "showbackground": true,
            "ticks": "",
            "zerolinecolor": "white"
           },
           "zaxis": {
            "backgroundcolor": "#E5ECF6",
            "gridcolor": "white",
            "gridwidth": 2,
            "linecolor": "white",
            "showbackground": true,
            "ticks": "",
            "zerolinecolor": "white"
           }
          },
          "shapedefaults": {
           "line": {
            "color": "#2a3f5f"
           }
          },
          "ternary": {
           "aaxis": {
            "gridcolor": "white",
            "linecolor": "white",
            "ticks": ""
           },
           "baxis": {
            "gridcolor": "white",
            "linecolor": "white",
            "ticks": ""
           },
           "bgcolor": "#E5ECF6",
           "caxis": {
            "gridcolor": "white",
            "linecolor": "white",
            "ticks": ""
           }
          },
          "title": {
           "x": 0.05
          },
          "xaxis": {
           "automargin": true,
           "gridcolor": "white",
           "linecolor": "white",
           "ticks": "",
           "title": {
            "standoff": 15
           },
           "zerolinecolor": "white",
           "zerolinewidth": 2
          },
          "yaxis": {
           "automargin": true,
           "gridcolor": "white",
           "linecolor": "white",
           "ticks": "",
           "title": {
            "standoff": 15
           },
           "zerolinecolor": "white",
           "zerolinewidth": 2
          }
         }
        },
        "title": {
         "text": "83% of food waste was not labeled Organic"
        }
       }
      }
     },
     "metadata": {}
    }
   ],
   "source": [
    "px.pie(values=df['is_organic'].value_counts(), names=('Not Organic', 'Organic'), title='83% of food waste was not labeled Organic')"
   ]
  },
  {
   "source": [
    "# Time Evaluation\n",
    "## Time will be evaluated in a \"days past label\" format\n",
    "numbers over 0 represents the food was past its label date\n",
    "\n",
    "We should assume the majority of food is tossed around 0"
   ],
   "cell_type": "markdown",
   "metadata": {}
  },
  {
   "cell_type": "code",
   "execution_count": 18,
   "metadata": {},
   "outputs": [],
   "source": [
    "df['days_past_label']= df.date_collected - df.label_date\n",
    "df['days_past_label_int']= df['days_past_label'].dt.days #turns time delta back to into for better math"
   ]
  },
  {
   "cell_type": "code",
   "execution_count": 19,
   "metadata": {},
   "outputs": [
    {
     "output_type": "execute_result",
     "data": {
      "text/plain": [
       "                         id date_collected    retailer_type  \\\n",
       "0  5e31d5503b85a2e63d634187     2020-01-27  counter service   \n",
       "1  5e31d5643b85a2e63d634188     2020-01-27  counter service   \n",
       "2  5e31d8903b85a2e63d634189     2020-01-27  counter service   \n",
       "3  5e31dcee3b85a2e63d63418a     2020-01-27  counter service   \n",
       "4  5e31dd273b85a2e63d63418b     2020-01-27  counter service   \n",
       "\n",
       "                            retailer_detail     food_type  \\\n",
       "0  ready-to-eat and prepackaged health food  ready-to-eat   \n",
       "1  ready-to-eat and prepackaged health food  ready-to-eat   \n",
       "2  ready-to-eat and prepackaged health food  ready-to-eat   \n",
       "3  ready-to-eat and prepackaged health food  ready-to-eat   \n",
       "4  ready-to-eat and prepackaged health food  ready-to-eat   \n",
       "\n",
       "                    food_detail label_type label_language label_date  \\\n",
       "0               organic oatmeal    sticker         use by 2020-01-28   \n",
       "1               organic oatmeal    sticker         use by 2020-01-28   \n",
       "2  organic middle eastern salad    sticker         use by 2020-01-28   \n",
       "3               organic oatmeal    sticker         use by 2020-01-28   \n",
       "4         organic mexican salad    sticker         use by 2020-01-28   \n",
       "\n",
       "   approximate_dollar_value  collection_lat  collection_long  is_organic  \\\n",
       "0                      5.25        40.69453        -73.99447           1   \n",
       "1                      5.25        40.69453        -73.99447           1   \n",
       "2                     10.00        40.69453        -73.99447           1   \n",
       "3                      6.25        40.69453        -73.99447           1   \n",
       "4                     10.00        40.69453        -73.99447           1   \n",
       "\n",
       "  days_past_label  days_past_label_int  \n",
       "0         -1 days                 -1.0  \n",
       "1         -1 days                 -1.0  \n",
       "2         -1 days                 -1.0  \n",
       "3         -1 days                 -1.0  \n",
       "4         -1 days                 -1.0  "
      ],
      "text/html": "<div>\n<style scoped>\n    .dataframe tbody tr th:only-of-type {\n        vertical-align: middle;\n    }\n\n    .dataframe tbody tr th {\n        vertical-align: top;\n    }\n\n    .dataframe thead th {\n        text-align: right;\n    }\n</style>\n<table border=\"1\" class=\"dataframe\">\n  <thead>\n    <tr style=\"text-align: right;\">\n      <th></th>\n      <th>id</th>\n      <th>date_collected</th>\n      <th>retailer_type</th>\n      <th>retailer_detail</th>\n      <th>food_type</th>\n      <th>food_detail</th>\n      <th>label_type</th>\n      <th>label_language</th>\n      <th>label_date</th>\n      <th>approximate_dollar_value</th>\n      <th>collection_lat</th>\n      <th>collection_long</th>\n      <th>is_organic</th>\n      <th>days_past_label</th>\n      <th>days_past_label_int</th>\n    </tr>\n  </thead>\n  <tbody>\n    <tr>\n      <th>0</th>\n      <td>5e31d5503b85a2e63d634187</td>\n      <td>2020-01-27</td>\n      <td>counter service</td>\n      <td>ready-to-eat and prepackaged health food</td>\n      <td>ready-to-eat</td>\n      <td>organic oatmeal</td>\n      <td>sticker</td>\n      <td>use by</td>\n      <td>2020-01-28</td>\n      <td>5.25</td>\n      <td>40.69453</td>\n      <td>-73.99447</td>\n      <td>1</td>\n      <td>-1 days</td>\n      <td>-1.0</td>\n    </tr>\n    <tr>\n      <th>1</th>\n      <td>5e31d5643b85a2e63d634188</td>\n      <td>2020-01-27</td>\n      <td>counter service</td>\n      <td>ready-to-eat and prepackaged health food</td>\n      <td>ready-to-eat</td>\n      <td>organic oatmeal</td>\n      <td>sticker</td>\n      <td>use by</td>\n      <td>2020-01-28</td>\n      <td>5.25</td>\n      <td>40.69453</td>\n      <td>-73.99447</td>\n      <td>1</td>\n      <td>-1 days</td>\n      <td>-1.0</td>\n    </tr>\n    <tr>\n      <th>2</th>\n      <td>5e31d8903b85a2e63d634189</td>\n      <td>2020-01-27</td>\n      <td>counter service</td>\n      <td>ready-to-eat and prepackaged health food</td>\n      <td>ready-to-eat</td>\n      <td>organic middle eastern salad</td>\n      <td>sticker</td>\n      <td>use by</td>\n      <td>2020-01-28</td>\n      <td>10.00</td>\n      <td>40.69453</td>\n      <td>-73.99447</td>\n      <td>1</td>\n      <td>-1 days</td>\n      <td>-1.0</td>\n    </tr>\n    <tr>\n      <th>3</th>\n      <td>5e31dcee3b85a2e63d63418a</td>\n      <td>2020-01-27</td>\n      <td>counter service</td>\n      <td>ready-to-eat and prepackaged health food</td>\n      <td>ready-to-eat</td>\n      <td>organic oatmeal</td>\n      <td>sticker</td>\n      <td>use by</td>\n      <td>2020-01-28</td>\n      <td>6.25</td>\n      <td>40.69453</td>\n      <td>-73.99447</td>\n      <td>1</td>\n      <td>-1 days</td>\n      <td>-1.0</td>\n    </tr>\n    <tr>\n      <th>4</th>\n      <td>5e31dd273b85a2e63d63418b</td>\n      <td>2020-01-27</td>\n      <td>counter service</td>\n      <td>ready-to-eat and prepackaged health food</td>\n      <td>ready-to-eat</td>\n      <td>organic mexican salad</td>\n      <td>sticker</td>\n      <td>use by</td>\n      <td>2020-01-28</td>\n      <td>10.00</td>\n      <td>40.69453</td>\n      <td>-73.99447</td>\n      <td>1</td>\n      <td>-1 days</td>\n      <td>-1.0</td>\n    </tr>\n  </tbody>\n</table>\n</div>"
     },
     "metadata": {},
     "execution_count": 19
    }
   ],
   "source": [
    "df.head()"
   ]
  },
  {
   "cell_type": "code",
   "execution_count": 20,
   "metadata": {},
   "outputs": [
    {
     "output_type": "execute_result",
     "data": {
      "text/plain": [
       "-21.63855421686747"
      ]
     },
     "metadata": {},
     "execution_count": 20
    }
   ],
   "source": [
    "df['days_past_label_int'].mean()"
   ]
  },
  {
   "cell_type": "code",
   "execution_count": 21,
   "metadata": {},
   "outputs": [
    {
     "output_type": "stream",
     "name": "stdout",
     "text": [
      "The average food was thrown out  -22 days +08:42:28.192771085 past its label date\n"
     ]
    }
   ],
   "source": [
    "\n",
    "days_mean= df['days_past_label'].mean()\n",
    "\n",
    "print('The average food was thrown out ', days_mean, 'past its label date')"
   ]
  },
  {
   "cell_type": "code",
   "execution_count": 22,
   "metadata": {},
   "outputs": [
    {
     "output_type": "execute_result",
     "data": {
      "text/plain": [
       "is_organic\n",
       "0   -22.805755\n",
       "1   -15.629630\n",
       "Name: days_past_label_int, dtype: float64"
      ]
     },
     "metadata": {},
     "execution_count": 22
    }
   ],
   "source": [
    "df.groupby('is_organic')['days_past_label_int'].mean()"
   ]
  },
  {
   "source": [
    "## On average, food was thrown away 2-3 weeks before its label date.\n",
    "### Non Organic food was thrown away sooner than organic foods\n",
    "### However, organic food was thrown away at a higher rate"
   ],
   "cell_type": "markdown",
   "metadata": {}
  },
  {
   "cell_type": "code",
   "execution_count": 23,
   "metadata": {},
   "outputs": [
    {
     "output_type": "execute_result",
     "data": {
      "text/plain": [
       "label_language\n",
       "by                 -625.000000\n",
       "bb                 -229.500000\n",
       "best used by       -226.000000\n",
       "best by            -212.666667\n",
       "p6493               -88.000000\n",
       "exp                 -53.500000\n",
       "best if used by     -28.500000\n",
       "12619                -3.000000\n",
       "expires              -1.000000\n",
       "sell by              -0.903226\n",
       "use by               -0.214286\n",
       "enjoy by              0.000000\n",
       "sell thru             0.520000\n",
       "for                   1.000000\n",
       "use or freeze by      7.000000\n",
       "p5b 16:50            25.000000\n",
       "t2513 dv            153.000000\n",
       "Name: days_past_label_int, dtype: float64"
      ]
     },
     "metadata": {},
     "execution_count": 23
    }
   ],
   "source": [
    "df.groupby('label_language')['days_past_label_int'].mean().sort_values()"
   ]
  },
  {
   "cell_type": "code",
   "execution_count": 45,
   "metadata": {},
   "outputs": [],
   "source": [
    "df.to_csv('brooklyn_clean.csv')"
   ]
  },
  {
   "source": [
    "# Mapping Geographic Data\n",
    "\n",
    "### The map detailed below will give us a visualization of the neighborhood and other geographical features related to the locations detailed in the data"
   ],
   "cell_type": "markdown",
   "metadata": {}
  },
  {
   "cell_type": "code",
   "execution_count": 35,
   "metadata": {},
   "outputs": [],
   "source": [
    "location_dic= {'latitude':'collection_lat','longitude':'collection_long','retailer_type':'retailer_type','dollar_value_total':'approximate_dollar_value'}\n",
    "location_data = pd.DataFrame()\n",
    "for key in location_dic:\n",
    "    location_data[key]= df[location_dic[key]]\n",
    "\n",
    "location_data=location_data.groupby(['latitude', 'longitude', 'retailer_type']).sum().reset_index()"
   ]
  },
  {
   "cell_type": "code",
   "execution_count": 36,
   "metadata": {},
   "outputs": [
    {
     "output_type": "execute_result",
     "data": {
      "text/plain": [
       "   latitude  longitude       retailer_type  dollar_value_total\n",
       "0  40.69120  -73.98716           drugstore               46.86\n",
       "1  40.69335  -73.99150  health food grocer              283.80\n",
       "2  40.69415  -73.99233           drugstore              100.22\n",
       "3  40.69453  -73.99447     counter service               50.75\n",
       "4  40.69460  -73.99395          coffeeshop                7.50\n",
       "5  40.69485  -73.99490         bakery/deli              247.45\n",
       "6  40.69789  -73.99267        chain grocer              203.60"
      ],
      "text/html": "<div>\n<style scoped>\n    .dataframe tbody tr th:only-of-type {\n        vertical-align: middle;\n    }\n\n    .dataframe tbody tr th {\n        vertical-align: top;\n    }\n\n    .dataframe thead th {\n        text-align: right;\n    }\n</style>\n<table border=\"1\" class=\"dataframe\">\n  <thead>\n    <tr style=\"text-align: right;\">\n      <th></th>\n      <th>latitude</th>\n      <th>longitude</th>\n      <th>retailer_type</th>\n      <th>dollar_value_total</th>\n    </tr>\n  </thead>\n  <tbody>\n    <tr>\n      <th>0</th>\n      <td>40.69120</td>\n      <td>-73.98716</td>\n      <td>drugstore</td>\n      <td>46.86</td>\n    </tr>\n    <tr>\n      <th>1</th>\n      <td>40.69335</td>\n      <td>-73.99150</td>\n      <td>health food grocer</td>\n      <td>283.80</td>\n    </tr>\n    <tr>\n      <th>2</th>\n      <td>40.69415</td>\n      <td>-73.99233</td>\n      <td>drugstore</td>\n      <td>100.22</td>\n    </tr>\n    <tr>\n      <th>3</th>\n      <td>40.69453</td>\n      <td>-73.99447</td>\n      <td>counter service</td>\n      <td>50.75</td>\n    </tr>\n    <tr>\n      <th>4</th>\n      <td>40.69460</td>\n      <td>-73.99395</td>\n      <td>coffeeshop</td>\n      <td>7.50</td>\n    </tr>\n    <tr>\n      <th>5</th>\n      <td>40.69485</td>\n      <td>-73.99490</td>\n      <td>bakery/deli</td>\n      <td>247.45</td>\n    </tr>\n    <tr>\n      <th>6</th>\n      <td>40.69789</td>\n      <td>-73.99267</td>\n      <td>chain grocer</td>\n      <td>203.60</td>\n    </tr>\n  </tbody>\n</table>\n</div>"
     },
     "metadata": {},
     "execution_count": 36
    }
   ],
   "source": [
    "location_data"
   ]
  },
  {
   "cell_type": "code",
   "execution_count": 43,
   "metadata": {},
   "outputs": [
    {
     "output_type": "execute_result",
     "data": {
      "text/plain": [
       "<folium.folium.Map at 0x161c428d820>"
      ],
      "text/html": "<div style=\"width:100%;\"><div style=\"position:relative;width:100%;height:0;padding-bottom:60%;\"><span style=\"color:#565656\">Make this Notebook Trusted to load map: File -> Trust Notebook</span><iframe src=\"about:blank\" style=\"position:absolute;width:100%;height:100%;left:0;top:0;border:none !important;\" data-html=%3C%21DOCTYPE%20html%3E%0A%3Chead%3E%20%20%20%20%0A%20%20%20%20%3Cmeta%20http-equiv%3D%22content-type%22%20content%3D%22text/html%3B%20charset%3DUTF-8%22%20/%3E%0A%20%20%20%20%0A%20%20%20%20%20%20%20%20%3Cscript%3E%0A%20%20%20%20%20%20%20%20%20%20%20%20L_NO_TOUCH%20%3D%20false%3B%0A%20%20%20%20%20%20%20%20%20%20%20%20L_DISABLE_3D%20%3D%20false%3B%0A%20%20%20%20%20%20%20%20%3C/script%3E%0A%20%20%20%20%0A%20%20%20%20%3Cstyle%3Ehtml%2C%20body%20%7Bwidth%3A%20100%25%3Bheight%3A%20100%25%3Bmargin%3A%200%3Bpadding%3A%200%3B%7D%3C/style%3E%0A%20%20%20%20%3Cstyle%3E%23map%20%7Bposition%3Aabsolute%3Btop%3A0%3Bbottom%3A0%3Bright%3A0%3Bleft%3A0%3B%7D%3C/style%3E%0A%20%20%20%20%3Cscript%20src%3D%22https%3A//cdn.jsdelivr.net/npm/leaflet%401.6.0/dist/leaflet.js%22%3E%3C/script%3E%0A%20%20%20%20%3Cscript%20src%3D%22https%3A//code.jquery.com/jquery-1.12.4.min.js%22%3E%3C/script%3E%0A%20%20%20%20%3Cscript%20src%3D%22https%3A//maxcdn.bootstrapcdn.com/bootstrap/3.2.0/js/bootstrap.min.js%22%3E%3C/script%3E%0A%20%20%20%20%3Cscript%20src%3D%22https%3A//cdnjs.cloudflare.com/ajax/libs/Leaflet.awesome-markers/2.0.2/leaflet.awesome-markers.js%22%3E%3C/script%3E%0A%20%20%20%20%3Clink%20rel%3D%22stylesheet%22%20href%3D%22https%3A//cdn.jsdelivr.net/npm/leaflet%401.6.0/dist/leaflet.css%22/%3E%0A%20%20%20%20%3Clink%20rel%3D%22stylesheet%22%20href%3D%22https%3A//maxcdn.bootstrapcdn.com/bootstrap/3.2.0/css/bootstrap.min.css%22/%3E%0A%20%20%20%20%3Clink%20rel%3D%22stylesheet%22%20href%3D%22https%3A//maxcdn.bootstrapcdn.com/bootstrap/3.2.0/css/bootstrap-theme.min.css%22/%3E%0A%20%20%20%20%3Clink%20rel%3D%22stylesheet%22%20href%3D%22https%3A//maxcdn.bootstrapcdn.com/font-awesome/4.6.3/css/font-awesome.min.css%22/%3E%0A%20%20%20%20%3Clink%20rel%3D%22stylesheet%22%20href%3D%22https%3A//cdnjs.cloudflare.com/ajax/libs/Leaflet.awesome-markers/2.0.2/leaflet.awesome-markers.css%22/%3E%0A%20%20%20%20%3Clink%20rel%3D%22stylesheet%22%20href%3D%22https%3A//cdn.jsdelivr.net/gh/python-visualization/folium/folium/templates/leaflet.awesome.rotate.min.css%22/%3E%0A%20%20%20%20%0A%20%20%20%20%20%20%20%20%20%20%20%20%3Cmeta%20name%3D%22viewport%22%20content%3D%22width%3Ddevice-width%2C%0A%20%20%20%20%20%20%20%20%20%20%20%20%20%20%20%20initial-scale%3D1.0%2C%20maximum-scale%3D1.0%2C%20user-scalable%3Dno%22%20/%3E%0A%20%20%20%20%20%20%20%20%20%20%20%20%3Cstyle%3E%0A%20%20%20%20%20%20%20%20%20%20%20%20%20%20%20%20%23map_95f56254678e4c448ed69aef743a74ff%20%7B%0A%20%20%20%20%20%20%20%20%20%20%20%20%20%20%20%20%20%20%20%20position%3A%20relative%3B%0A%20%20%20%20%20%20%20%20%20%20%20%20%20%20%20%20%20%20%20%20width%3A%2050.0%25%3B%0A%20%20%20%20%20%20%20%20%20%20%20%20%20%20%20%20%20%20%20%20height%3A%2050.0%25%3B%0A%20%20%20%20%20%20%20%20%20%20%20%20%20%20%20%20%20%20%20%20left%3A%200.0%25%3B%0A%20%20%20%20%20%20%20%20%20%20%20%20%20%20%20%20%20%20%20%20top%3A%200.0%25%3B%0A%20%20%20%20%20%20%20%20%20%20%20%20%20%20%20%20%7D%0A%20%20%20%20%20%20%20%20%20%20%20%20%3C/style%3E%0A%20%20%20%20%20%20%20%20%0A%3C/head%3E%0A%3Cbody%3E%20%20%20%20%0A%20%20%20%20%0A%20%20%20%20%20%20%20%20%20%20%20%20%3Cdiv%20class%3D%22folium-map%22%20id%3D%22map_95f56254678e4c448ed69aef743a74ff%22%20%3E%3C/div%3E%0A%20%20%20%20%20%20%20%20%0A%3C/body%3E%0A%3Cscript%3E%20%20%20%20%0A%20%20%20%20%0A%20%20%20%20%20%20%20%20%20%20%20%20var%20map_95f56254678e4c448ed69aef743a74ff%20%3D%20L.map%28%0A%20%20%20%20%20%20%20%20%20%20%20%20%20%20%20%20%22map_95f56254678e4c448ed69aef743a74ff%22%2C%0A%20%20%20%20%20%20%20%20%20%20%20%20%20%20%20%20%7B%0A%20%20%20%20%20%20%20%20%20%20%20%20%20%20%20%20%20%20%20%20center%3A%20%5B40.69531557428469%2C%20-73.99306729689098%5D%2C%0A%20%20%20%20%20%20%20%20%20%20%20%20%20%20%20%20%20%20%20%20crs%3A%20L.CRS.EPSG3857%2C%0A%20%20%20%20%20%20%20%20%20%20%20%20%20%20%20%20%20%20%20%20zoom%3A%2015%2C%0A%20%20%20%20%20%20%20%20%20%20%20%20%20%20%20%20%20%20%20%20zoomControl%3A%20true%2C%0A%20%20%20%20%20%20%20%20%20%20%20%20%20%20%20%20%20%20%20%20preferCanvas%3A%20false%2C%0A%20%20%20%20%20%20%20%20%20%20%20%20%20%20%20%20%7D%0A%20%20%20%20%20%20%20%20%20%20%20%20%29%3B%0A%0A%20%20%20%20%20%20%20%20%20%20%20%20%0A%0A%20%20%20%20%20%20%20%20%0A%20%20%20%20%0A%20%20%20%20%20%20%20%20%20%20%20%20var%20tile_layer_5aca9570b708427cb01222a0197051d8%20%3D%20L.tileLayer%28%0A%20%20%20%20%20%20%20%20%20%20%20%20%20%20%20%20%22https%3A//%7Bs%7D.tile.openstreetmap.org/%7Bz%7D/%7Bx%7D/%7By%7D.png%22%2C%0A%20%20%20%20%20%20%20%20%20%20%20%20%20%20%20%20%7B%22attribution%22%3A%20%22Data%20by%20%5Cu0026copy%3B%20%5Cu003ca%20href%3D%5C%22http%3A//openstreetmap.org%5C%22%5Cu003eOpenStreetMap%5Cu003c/a%5Cu003e%2C%20under%20%5Cu003ca%20href%3D%5C%22http%3A//www.openstreetmap.org/copyright%5C%22%5Cu003eODbL%5Cu003c/a%5Cu003e.%22%2C%20%22detectRetina%22%3A%20false%2C%20%22maxNativeZoom%22%3A%2018%2C%20%22maxZoom%22%3A%2018%2C%20%22minZoom%22%3A%200%2C%20%22noWrap%22%3A%20false%2C%20%22opacity%22%3A%201%2C%20%22subdomains%22%3A%20%22abc%22%2C%20%22tms%22%3A%20false%7D%0A%20%20%20%20%20%20%20%20%20%20%20%20%29.addTo%28map_95f56254678e4c448ed69aef743a74ff%29%3B%0A%20%20%20%20%20%20%20%20%0A%20%20%20%20%0A%20%20%20%20%20%20%20%20%20%20%20%20var%20marker_da7b01c23a6945208a32fa79ad9c3781%20%3D%20L.marker%28%0A%20%20%20%20%20%20%20%20%20%20%20%20%20%20%20%20%5B40.6912%2C%20-73.98716%5D%2C%0A%20%20%20%20%20%20%20%20%20%20%20%20%20%20%20%20%7B%7D%0A%20%20%20%20%20%20%20%20%20%20%20%20%29.addTo%28map_95f56254678e4c448ed69aef743a74ff%29%3B%0A%20%20%20%20%20%20%20%20%0A%20%20%20%20%0A%20%20%20%20%20%20%20%20var%20popup_e81a5df2212c42c9b0b330e39801c096%20%3D%20L.popup%28%7B%22maxWidth%22%3A%20%22100%25%22%7D%29%3B%0A%0A%20%20%20%20%20%20%20%20%0A%20%20%20%20%20%20%20%20%20%20%20%20var%20html_528b1d681a7b4cfaa2dfca7a447a0aee%20%3D%20%24%28%60%3Cdiv%20id%3D%22html_528b1d681a7b4cfaa2dfca7a447a0aee%22%20style%3D%22width%3A%20100.0%25%3B%20height%3A%20100.0%25%3B%22%3E%5B%27drugstore%27%2C%2046.86%5D%3C/div%3E%60%29%5B0%5D%3B%0A%20%20%20%20%20%20%20%20%20%20%20%20popup_e81a5df2212c42c9b0b330e39801c096.setContent%28html_528b1d681a7b4cfaa2dfca7a447a0aee%29%3B%0A%20%20%20%20%20%20%20%20%0A%0A%20%20%20%20%20%20%20%20marker_da7b01c23a6945208a32fa79ad9c3781.bindPopup%28popup_e81a5df2212c42c9b0b330e39801c096%29%0A%20%20%20%20%20%20%20%20%3B%0A%0A%20%20%20%20%20%20%20%20%0A%20%20%20%20%0A%20%20%20%20%0A%20%20%20%20%20%20%20%20%20%20%20%20var%20marker_49c48e39deca49aeb41520c3448cbf1a%20%3D%20L.marker%28%0A%20%20%20%20%20%20%20%20%20%20%20%20%20%20%20%20%5B40.69335%2C%20-73.9915%5D%2C%0A%20%20%20%20%20%20%20%20%20%20%20%20%20%20%20%20%7B%7D%0A%20%20%20%20%20%20%20%20%20%20%20%20%29.addTo%28map_95f56254678e4c448ed69aef743a74ff%29%3B%0A%20%20%20%20%20%20%20%20%0A%20%20%20%20%0A%20%20%20%20%20%20%20%20var%20popup_2aff9a6340b74656972620b4f1e3f79b%20%3D%20L.popup%28%7B%22maxWidth%22%3A%20%22100%25%22%7D%29%3B%0A%0A%20%20%20%20%20%20%20%20%0A%20%20%20%20%20%20%20%20%20%20%20%20var%20html_cb879b2f42204f6aab2de6103b599f6c%20%3D%20%24%28%60%3Cdiv%20id%3D%22html_cb879b2f42204f6aab2de6103b599f6c%22%20style%3D%22width%3A%20100.0%25%3B%20height%3A%20100.0%25%3B%22%3E%5B%27health%20food%20grocer%27%2C%20283.8%5D%3C/div%3E%60%29%5B0%5D%3B%0A%20%20%20%20%20%20%20%20%20%20%20%20popup_2aff9a6340b74656972620b4f1e3f79b.setContent%28html_cb879b2f42204f6aab2de6103b599f6c%29%3B%0A%20%20%20%20%20%20%20%20%0A%0A%20%20%20%20%20%20%20%20marker_49c48e39deca49aeb41520c3448cbf1a.bindPopup%28popup_2aff9a6340b74656972620b4f1e3f79b%29%0A%20%20%20%20%20%20%20%20%3B%0A%0A%20%20%20%20%20%20%20%20%0A%20%20%20%20%0A%20%20%20%20%0A%20%20%20%20%20%20%20%20%20%20%20%20var%20marker_a084cc3ab8e94763b02ce6dc163cc5b2%20%3D%20L.marker%28%0A%20%20%20%20%20%20%20%20%20%20%20%20%20%20%20%20%5B40.69415%2C%20-73.99233%5D%2C%0A%20%20%20%20%20%20%20%20%20%20%20%20%20%20%20%20%7B%7D%0A%20%20%20%20%20%20%20%20%20%20%20%20%29.addTo%28map_95f56254678e4c448ed69aef743a74ff%29%3B%0A%20%20%20%20%20%20%20%20%0A%20%20%20%20%0A%20%20%20%20%20%20%20%20var%20popup_c5948593d3394f1683dee7a90743a3c6%20%3D%20L.popup%28%7B%22maxWidth%22%3A%20%22100%25%22%7D%29%3B%0A%0A%20%20%20%20%20%20%20%20%0A%20%20%20%20%20%20%20%20%20%20%20%20var%20html_4cfa61547f144a579a3636198ab6cb00%20%3D%20%24%28%60%3Cdiv%20id%3D%22html_4cfa61547f144a579a3636198ab6cb00%22%20style%3D%22width%3A%20100.0%25%3B%20height%3A%20100.0%25%3B%22%3E%5B%27drugstore%27%2C%20100.22%5D%3C/div%3E%60%29%5B0%5D%3B%0A%20%20%20%20%20%20%20%20%20%20%20%20popup_c5948593d3394f1683dee7a90743a3c6.setContent%28html_4cfa61547f144a579a3636198ab6cb00%29%3B%0A%20%20%20%20%20%20%20%20%0A%0A%20%20%20%20%20%20%20%20marker_a084cc3ab8e94763b02ce6dc163cc5b2.bindPopup%28popup_c5948593d3394f1683dee7a90743a3c6%29%0A%20%20%20%20%20%20%20%20%3B%0A%0A%20%20%20%20%20%20%20%20%0A%20%20%20%20%0A%20%20%20%20%0A%20%20%20%20%20%20%20%20%20%20%20%20var%20marker_501473b412bf40cc974a5227d772cc1c%20%3D%20L.marker%28%0A%20%20%20%20%20%20%20%20%20%20%20%20%20%20%20%20%5B40.69453%2C%20-73.99447%5D%2C%0A%20%20%20%20%20%20%20%20%20%20%20%20%20%20%20%20%7B%7D%0A%20%20%20%20%20%20%20%20%20%20%20%20%29.addTo%28map_95f56254678e4c448ed69aef743a74ff%29%3B%0A%20%20%20%20%20%20%20%20%0A%20%20%20%20%0A%20%20%20%20%20%20%20%20var%20popup_7d614a5d8bbf4604ba00f44244d0648f%20%3D%20L.popup%28%7B%22maxWidth%22%3A%20%22100%25%22%7D%29%3B%0A%0A%20%20%20%20%20%20%20%20%0A%20%20%20%20%20%20%20%20%20%20%20%20var%20html_f89ae1bff6084d148d485eeb4244bc20%20%3D%20%24%28%60%3Cdiv%20id%3D%22html_f89ae1bff6084d148d485eeb4244bc20%22%20style%3D%22width%3A%20100.0%25%3B%20height%3A%20100.0%25%3B%22%3E%5B%27counter%20service%27%2C%2050.75%5D%3C/div%3E%60%29%5B0%5D%3B%0A%20%20%20%20%20%20%20%20%20%20%20%20popup_7d614a5d8bbf4604ba00f44244d0648f.setContent%28html_f89ae1bff6084d148d485eeb4244bc20%29%3B%0A%20%20%20%20%20%20%20%20%0A%0A%20%20%20%20%20%20%20%20marker_501473b412bf40cc974a5227d772cc1c.bindPopup%28popup_7d614a5d8bbf4604ba00f44244d0648f%29%0A%20%20%20%20%20%20%20%20%3B%0A%0A%20%20%20%20%20%20%20%20%0A%20%20%20%20%0A%20%20%20%20%0A%20%20%20%20%20%20%20%20%20%20%20%20var%20marker_d249fe881beb4f74a455ec4eb3c1b362%20%3D%20L.marker%28%0A%20%20%20%20%20%20%20%20%20%20%20%20%20%20%20%20%5B40.6946%2C%20-73.99395%5D%2C%0A%20%20%20%20%20%20%20%20%20%20%20%20%20%20%20%20%7B%7D%0A%20%20%20%20%20%20%20%20%20%20%20%20%29.addTo%28map_95f56254678e4c448ed69aef743a74ff%29%3B%0A%20%20%20%20%20%20%20%20%0A%20%20%20%20%0A%20%20%20%20%20%20%20%20var%20popup_bec13a4952b64f908cdada733fdd4a5f%20%3D%20L.popup%28%7B%22maxWidth%22%3A%20%22100%25%22%7D%29%3B%0A%0A%20%20%20%20%20%20%20%20%0A%20%20%20%20%20%20%20%20%20%20%20%20var%20html_715c2b9af1624f1487b5a766eb41604d%20%3D%20%24%28%60%3Cdiv%20id%3D%22html_715c2b9af1624f1487b5a766eb41604d%22%20style%3D%22width%3A%20100.0%25%3B%20height%3A%20100.0%25%3B%22%3E%5B%27coffeeshop%27%2C%207.5%5D%3C/div%3E%60%29%5B0%5D%3B%0A%20%20%20%20%20%20%20%20%20%20%20%20popup_bec13a4952b64f908cdada733fdd4a5f.setContent%28html_715c2b9af1624f1487b5a766eb41604d%29%3B%0A%20%20%20%20%20%20%20%20%0A%0A%20%20%20%20%20%20%20%20marker_d249fe881beb4f74a455ec4eb3c1b362.bindPopup%28popup_bec13a4952b64f908cdada733fdd4a5f%29%0A%20%20%20%20%20%20%20%20%3B%0A%0A%20%20%20%20%20%20%20%20%0A%20%20%20%20%0A%20%20%20%20%0A%20%20%20%20%20%20%20%20%20%20%20%20var%20marker_8705b8ab148f446d82409a19cd6435ad%20%3D%20L.marker%28%0A%20%20%20%20%20%20%20%20%20%20%20%20%20%20%20%20%5B40.69485%2C%20-73.9949%5D%2C%0A%20%20%20%20%20%20%20%20%20%20%20%20%20%20%20%20%7B%7D%0A%20%20%20%20%20%20%20%20%20%20%20%20%29.addTo%28map_95f56254678e4c448ed69aef743a74ff%29%3B%0A%20%20%20%20%20%20%20%20%0A%20%20%20%20%0A%20%20%20%20%20%20%20%20var%20popup_ecaaf363209542d8a55b88847c389d3e%20%3D%20L.popup%28%7B%22maxWidth%22%3A%20%22100%25%22%7D%29%3B%0A%0A%20%20%20%20%20%20%20%20%0A%20%20%20%20%20%20%20%20%20%20%20%20var%20html_7ebd48d6728c42c8b9cc42864b13b39e%20%3D%20%24%28%60%3Cdiv%20id%3D%22html_7ebd48d6728c42c8b9cc42864b13b39e%22%20style%3D%22width%3A%20100.0%25%3B%20height%3A%20100.0%25%3B%22%3E%5B%27bakery/deli%27%2C%20247.45%5D%3C/div%3E%60%29%5B0%5D%3B%0A%20%20%20%20%20%20%20%20%20%20%20%20popup_ecaaf363209542d8a55b88847c389d3e.setContent%28html_7ebd48d6728c42c8b9cc42864b13b39e%29%3B%0A%20%20%20%20%20%20%20%20%0A%0A%20%20%20%20%20%20%20%20marker_8705b8ab148f446d82409a19cd6435ad.bindPopup%28popup_ecaaf363209542d8a55b88847c389d3e%29%0A%20%20%20%20%20%20%20%20%3B%0A%0A%20%20%20%20%20%20%20%20%0A%20%20%20%20%0A%20%20%20%20%0A%20%20%20%20%20%20%20%20%20%20%20%20var%20marker_1a9790ef7f0d47a983e88552187ffc21%20%3D%20L.marker%28%0A%20%20%20%20%20%20%20%20%20%20%20%20%20%20%20%20%5B40.69789%2C%20-73.99267%5D%2C%0A%20%20%20%20%20%20%20%20%20%20%20%20%20%20%20%20%7B%7D%0A%20%20%20%20%20%20%20%20%20%20%20%20%29.addTo%28map_95f56254678e4c448ed69aef743a74ff%29%3B%0A%20%20%20%20%20%20%20%20%0A%20%20%20%20%0A%20%20%20%20%20%20%20%20var%20popup_a1300d2e5e25488d82a73dbcc884abcc%20%3D%20L.popup%28%7B%22maxWidth%22%3A%20%22100%25%22%7D%29%3B%0A%0A%20%20%20%20%20%20%20%20%0A%20%20%20%20%20%20%20%20%20%20%20%20var%20html_8328d439e7b54a9caa7f6fd9467799d1%20%3D%20%24%28%60%3Cdiv%20id%3D%22html_8328d439e7b54a9caa7f6fd9467799d1%22%20style%3D%22width%3A%20100.0%25%3B%20height%3A%20100.0%25%3B%22%3E%5B%27chain%20grocer%27%2C%20203.6%5D%3C/div%3E%60%29%5B0%5D%3B%0A%20%20%20%20%20%20%20%20%20%20%20%20popup_a1300d2e5e25488d82a73dbcc884abcc.setContent%28html_8328d439e7b54a9caa7f6fd9467799d1%29%3B%0A%20%20%20%20%20%20%20%20%0A%0A%20%20%20%20%20%20%20%20marker_1a9790ef7f0d47a983e88552187ffc21.bindPopup%28popup_a1300d2e5e25488d82a73dbcc884abcc%29%0A%20%20%20%20%20%20%20%20%3B%0A%0A%20%20%20%20%20%20%20%20%0A%20%20%20%20%0A%20%20%20%20%0A%20%20%20%20%20%20%20%20%20%20%20%20var%20feature_group_db6c11af9cfd429199ef1d1a1eb44c1c%20%3D%20L.featureGroup%28%0A%20%20%20%20%20%20%20%20%20%20%20%20%20%20%20%20%7B%7D%0A%20%20%20%20%20%20%20%20%20%20%20%20%29.addTo%28map_95f56254678e4c448ed69aef743a74ff%29%3B%0A%20%20%20%20%20%20%20%20%0A%20%20%20%20%0A%20%20%20%20%20%20%20%20%20%20%20%20var%20circle_marker_6adbd097c08f48b69b750d413ea505ad%20%3D%20L.circleMarker%28%0A%20%20%20%20%20%20%20%20%20%20%20%20%20%20%20%20%5B40.6912%2C%20-73.98716%5D%2C%0A%20%20%20%20%20%20%20%20%20%20%20%20%20%20%20%20%7B%22bubblingMouseEvents%22%3A%20true%2C%20%22color%22%3A%20%22blue%22%2C%20%22dashArray%22%3A%20null%2C%20%22dashOffset%22%3A%20null%2C%20%22fill%22%3A%20true%2C%20%22fillColor%22%3A%20%22red%22%2C%20%22fillOpacity%22%3A%200.7%2C%20%22fillRule%22%3A%20%22evenodd%22%2C%20%22lineCap%22%3A%20%22round%22%2C%20%22lineJoin%22%3A%20%22round%22%2C%20%22opacity%22%3A%201.0%2C%20%22radius%22%3A%208%2C%20%22stroke%22%3A%20true%2C%20%22weight%22%3A%203%7D%0A%20%20%20%20%20%20%20%20%20%20%20%20%29.addTo%28feature_group_db6c11af9cfd429199ef1d1a1eb44c1c%29%3B%0A%20%20%20%20%20%20%20%20%0A%20%20%20%20%0A%20%20%20%20%20%20%20%20%20%20%20%20var%20circle_marker_2c26a89527ff48d9aa313719c50a2382%20%3D%20L.circleMarker%28%0A%20%20%20%20%20%20%20%20%20%20%20%20%20%20%20%20%5B40.69335%2C%20-73.9915%5D%2C%0A%20%20%20%20%20%20%20%20%20%20%20%20%20%20%20%20%7B%22bubblingMouseEvents%22%3A%20true%2C%20%22color%22%3A%20%22blue%22%2C%20%22dashArray%22%3A%20null%2C%20%22dashOffset%22%3A%20null%2C%20%22fill%22%3A%20true%2C%20%22fillColor%22%3A%20%22red%22%2C%20%22fillOpacity%22%3A%200.7%2C%20%22fillRule%22%3A%20%22evenodd%22%2C%20%22lineCap%22%3A%20%22round%22%2C%20%22lineJoin%22%3A%20%22round%22%2C%20%22opacity%22%3A%201.0%2C%20%22radius%22%3A%208%2C%20%22stroke%22%3A%20true%2C%20%22weight%22%3A%203%7D%0A%20%20%20%20%20%20%20%20%20%20%20%20%29.addTo%28feature_group_db6c11af9cfd429199ef1d1a1eb44c1c%29%3B%0A%20%20%20%20%20%20%20%20%0A%20%20%20%20%0A%20%20%20%20%20%20%20%20%20%20%20%20var%20circle_marker_2a0627d1ecef425a8d4769110759844c%20%3D%20L.circleMarker%28%0A%20%20%20%20%20%20%20%20%20%20%20%20%20%20%20%20%5B40.69415%2C%20-73.99233%5D%2C%0A%20%20%20%20%20%20%20%20%20%20%20%20%20%20%20%20%7B%22bubblingMouseEvents%22%3A%20true%2C%20%22color%22%3A%20%22blue%22%2C%20%22dashArray%22%3A%20null%2C%20%22dashOffset%22%3A%20null%2C%20%22fill%22%3A%20true%2C%20%22fillColor%22%3A%20%22red%22%2C%20%22fillOpacity%22%3A%200.7%2C%20%22fillRule%22%3A%20%22evenodd%22%2C%20%22lineCap%22%3A%20%22round%22%2C%20%22lineJoin%22%3A%20%22round%22%2C%20%22opacity%22%3A%201.0%2C%20%22radius%22%3A%208%2C%20%22stroke%22%3A%20true%2C%20%22weight%22%3A%203%7D%0A%20%20%20%20%20%20%20%20%20%20%20%20%29.addTo%28feature_group_db6c11af9cfd429199ef1d1a1eb44c1c%29%3B%0A%20%20%20%20%20%20%20%20%0A%20%20%20%20%0A%20%20%20%20%20%20%20%20%20%20%20%20var%20circle_marker_5470e05732a248a892ba92ea62ec0ac2%20%3D%20L.circleMarker%28%0A%20%20%20%20%20%20%20%20%20%20%20%20%20%20%20%20%5B40.69453%2C%20-73.99447%5D%2C%0A%20%20%20%20%20%20%20%20%20%20%20%20%20%20%20%20%7B%22bubblingMouseEvents%22%3A%20true%2C%20%22color%22%3A%20%22blue%22%2C%20%22dashArray%22%3A%20null%2C%20%22dashOffset%22%3A%20null%2C%20%22fill%22%3A%20true%2C%20%22fillColor%22%3A%20%22red%22%2C%20%22fillOpacity%22%3A%200.7%2C%20%22fillRule%22%3A%20%22evenodd%22%2C%20%22lineCap%22%3A%20%22round%22%2C%20%22lineJoin%22%3A%20%22round%22%2C%20%22opacity%22%3A%201.0%2C%20%22radius%22%3A%208%2C%20%22stroke%22%3A%20true%2C%20%22weight%22%3A%203%7D%0A%20%20%20%20%20%20%20%20%20%20%20%20%29.addTo%28feature_group_db6c11af9cfd429199ef1d1a1eb44c1c%29%3B%0A%20%20%20%20%20%20%20%20%0A%20%20%20%20%0A%20%20%20%20%20%20%20%20%20%20%20%20var%20circle_marker_c479df5107ae4ff081e5ba0fad9b9a64%20%3D%20L.circleMarker%28%0A%20%20%20%20%20%20%20%20%20%20%20%20%20%20%20%20%5B40.6946%2C%20-73.99395%5D%2C%0A%20%20%20%20%20%20%20%20%20%20%20%20%20%20%20%20%7B%22bubblingMouseEvents%22%3A%20true%2C%20%22color%22%3A%20%22blue%22%2C%20%22dashArray%22%3A%20null%2C%20%22dashOffset%22%3A%20null%2C%20%22fill%22%3A%20true%2C%20%22fillColor%22%3A%20%22red%22%2C%20%22fillOpacity%22%3A%200.7%2C%20%22fillRule%22%3A%20%22evenodd%22%2C%20%22lineCap%22%3A%20%22round%22%2C%20%22lineJoin%22%3A%20%22round%22%2C%20%22opacity%22%3A%201.0%2C%20%22radius%22%3A%208%2C%20%22stroke%22%3A%20true%2C%20%22weight%22%3A%203%7D%0A%20%20%20%20%20%20%20%20%20%20%20%20%29.addTo%28feature_group_db6c11af9cfd429199ef1d1a1eb44c1c%29%3B%0A%20%20%20%20%20%20%20%20%0A%20%20%20%20%0A%20%20%20%20%20%20%20%20%20%20%20%20var%20circle_marker_19e91ca2ab1848288d62e73b0c82f12d%20%3D%20L.circleMarker%28%0A%20%20%20%20%20%20%20%20%20%20%20%20%20%20%20%20%5B40.69485%2C%20-73.9949%5D%2C%0A%20%20%20%20%20%20%20%20%20%20%20%20%20%20%20%20%7B%22bubblingMouseEvents%22%3A%20true%2C%20%22color%22%3A%20%22blue%22%2C%20%22dashArray%22%3A%20null%2C%20%22dashOffset%22%3A%20null%2C%20%22fill%22%3A%20true%2C%20%22fillColor%22%3A%20%22red%22%2C%20%22fillOpacity%22%3A%200.7%2C%20%22fillRule%22%3A%20%22evenodd%22%2C%20%22lineCap%22%3A%20%22round%22%2C%20%22lineJoin%22%3A%20%22round%22%2C%20%22opacity%22%3A%201.0%2C%20%22radius%22%3A%208%2C%20%22stroke%22%3A%20true%2C%20%22weight%22%3A%203%7D%0A%20%20%20%20%20%20%20%20%20%20%20%20%29.addTo%28feature_group_db6c11af9cfd429199ef1d1a1eb44c1c%29%3B%0A%20%20%20%20%20%20%20%20%0A%20%20%20%20%0A%20%20%20%20%20%20%20%20%20%20%20%20var%20circle_marker_c9938c0ef2f046f0ab95b0aa540fcbac%20%3D%20L.circleMarker%28%0A%20%20%20%20%20%20%20%20%20%20%20%20%20%20%20%20%5B40.69789%2C%20-73.99267%5D%2C%0A%20%20%20%20%20%20%20%20%20%20%20%20%20%20%20%20%7B%22bubblingMouseEvents%22%3A%20true%2C%20%22color%22%3A%20%22blue%22%2C%20%22dashArray%22%3A%20null%2C%20%22dashOffset%22%3A%20null%2C%20%22fill%22%3A%20true%2C%20%22fillColor%22%3A%20%22red%22%2C%20%22fillOpacity%22%3A%200.7%2C%20%22fillRule%22%3A%20%22evenodd%22%2C%20%22lineCap%22%3A%20%22round%22%2C%20%22lineJoin%22%3A%20%22round%22%2C%20%22opacity%22%3A%201.0%2C%20%22radius%22%3A%208%2C%20%22stroke%22%3A%20true%2C%20%22weight%22%3A%203%7D%0A%20%20%20%20%20%20%20%20%20%20%20%20%29.addTo%28feature_group_db6c11af9cfd429199ef1d1a1eb44c1c%29%3B%0A%20%20%20%20%20%20%20%20%0A%3C/script%3E onload=\"this.contentDocument.open();this.contentDocument.write(    decodeURIComponent(this.getAttribute('data-html')));this.contentDocument.close();\" allowfullscreen webkitallowfullscreen mozallowfullscreen></iframe></div></div>"
     },
     "metadata": {},
     "execution_count": 43
    }
   ],
   "source": [
    "#we can use Folium for powerful geomapping\n",
    "import folium\n",
    "\n",
    "#create a map using latitude and longitude, respectively, of general Brooklyn through a google search\n",
    " \n",
    "map=folium.Map(width='50%', \n",
    "                height='50%', \n",
    "                location=[40.69531557428469, -73.99306729689098], #Google was used to find a near by intersection for locatin coordinates.\n",
    "                zoom_start=15)\n",
    "\n",
    "#create a feature group to add to the map\n",
    "dumpsters = folium.map.FeatureGroup()\n",
    "\n",
    "#create loop to add location of dumpsters to the map\n",
    "for lat, lon, in zip(location_data.latitude, location_data.longitude):\n",
    "    dumpsters.add_child(\n",
    "        folium.features.CircleMarker(\n",
    "            [lat,lon],\n",
    "            radius= 8,\n",
    "            color= 'blue',\n",
    "            fill= True,\n",
    "            fill_color= 'red',\n",
    "            fill_opacity=0.7\n",
    "        )\n",
    "    )\n",
    "#adding some text to markers\n",
    "latitudes = list(location_data.latitude)\n",
    "longitudes = list(location_data.longitude)\n",
    "store_label = location_data.retailer_type\n",
    "dollar_label= location_data.dollar_value_total.round(2)\n",
    "\n",
    "for lat, lon, label1, label2 in zip(latitudes, longitudes, store_label,dollar_label ):\n",
    "    folium.Marker([lat, lon], popup=[label1, label2]).add_to(map)\n",
    "\n",
    "#add features to map\n",
    "map.add_child(dumpsters)"
   ]
  },
  {
   "cell_type": "code",
   "execution_count": null,
   "metadata": {},
   "outputs": [],
   "source": []
  }
 ]
}